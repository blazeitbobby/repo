{
 "cells": [
  {
   "cell_type": "code",
   "execution_count": 71,
   "metadata": {},
   "outputs": [],
   "source": [
    "from clean import clean_mi_pl_bs, clean_mi_deferrals, clean_gross_tp_walk, clean_unearned_premium_unexpired_risk, clean_s2_summary_sheet, clean_version_control_solvency_balance_sheet, clean_version_control_scr_review, clean_version_control_s2_gaap, clean_version_control_s2_cap_prov_summary\n",
    "import pandas as pd\n",
    "import math\n",
    "import numpy as np"
   ]
  },
  {
   "cell_type": "code",
   "execution_count": 2,
   "metadata": {},
   "outputs": [],
   "source": [
    "%load_ext autoreload\n",
    "%autoreload 2"
   ]
  },
  {
   "cell_type": "code",
   "execution_count": null,
   "metadata": {},
   "outputs": [],
   "source": [
    "# pd.set_option('display.max_rows', None)\n",
    "# pd.set_option('display.width', 1000)\n",
    "# pd.set_option('display.max_colwidth', None)"
   ]
  },
  {
   "cell_type": "code",
   "execution_count": 4,
   "metadata": {},
   "outputs": [
    {
     "data": {
      "text/html": [
       "<div>\n",
       "<style scoped>\n",
       "    .dataframe tbody tr th:only-of-type {\n",
       "        vertical-align: middle;\n",
       "    }\n",
       "\n",
       "    .dataframe tbody tr th {\n",
       "        vertical-align: top;\n",
       "    }\n",
       "\n",
       "    .dataframe thead th {\n",
       "        text-align: right;\n",
       "    }\n",
       "</style>\n",
       "<table border=\"1\" class=\"dataframe\">\n",
       "  <thead>\n",
       "    <tr style=\"text-align: right;\">\n",
       "      <th></th>\n",
       "      <th>OP risk calc</th>\n",
       "      <th>Final - As at 30th May 2025</th>\n",
       "      <th>Final - As at 30th June 2025</th>\n",
       "      <th>Movement</th>\n",
       "    </tr>\n",
       "  </thead>\n",
       "  <tbody>\n",
       "    <tr>\n",
       "      <th>0</th>\n",
       "      <td>GEP - historic 1 to 12 months</td>\n",
       "      <td>79727936.81</td>\n",
       "      <td>76150932.45</td>\n",
       "      <td>-3.577004e+06</td>\n",
       "    </tr>\n",
       "    <tr>\n",
       "      <th>1</th>\n",
       "      <td>GEP - historic 13 - 24 months</td>\n",
       "      <td>131374797.43</td>\n",
       "      <td>125371386.41</td>\n",
       "      <td>-6.003411e+06</td>\n",
       "    </tr>\n",
       "    <tr>\n",
       "      <th>2</th>\n",
       "      <td>Gross TPs</td>\n",
       "      <td>198954923.028861</td>\n",
       "      <td>206279137.461737</td>\n",
       "      <td>7.324214e+06</td>\n",
       "    </tr>\n",
       "    <tr>\n",
       "      <th>4</th>\n",
       "      <td>Claim Op</td>\n",
       "      <td>5968647.690866</td>\n",
       "      <td>6188374.123852</td>\n",
       "      <td>2.197264e+05</td>\n",
       "    </tr>\n",
       "    <tr>\n",
       "      <th>5</th>\n",
       "      <td>Prem Op</td>\n",
       "      <td>54183.50112</td>\n",
       "      <td>55686.03624</td>\n",
       "      <td>1.502535e+03</td>\n",
       "    </tr>\n",
       "    <tr>\n",
       "      <th>6</th>\n",
       "      <td>30% of BSCR</td>\n",
       "      <td>5164158.738999</td>\n",
       "      <td>5187674.127955</td>\n",
       "      <td>2.351539e+04</td>\n",
       "    </tr>\n",
       "    <tr>\n",
       "      <th>7</th>\n",
       "      <td>OP risk</td>\n",
       "      <td>5164158.738999</td>\n",
       "      <td>5187674.127955</td>\n",
       "      <td>2.351539e+04</td>\n",
       "    </tr>\n",
       "    <tr>\n",
       "      <th>8</th>\n",
       "      <td>Op risk selection</td>\n",
       "      <td>BSCR</td>\n",
       "      <td>BSCR</td>\n",
       "      <td>1.000000e+00</td>\n",
       "    </tr>\n",
       "  </tbody>\n",
       "</table>\n",
       "</div>"
      ],
      "text/plain": [
       "                    OP risk calc Final - As at 30th May 2025  \\\n",
       "0  GEP - historic 1 to 12 months                 79727936.81   \n",
       "1  GEP - historic 13 - 24 months                131374797.43   \n",
       "2                      Gross TPs            198954923.028861   \n",
       "4                       Claim Op              5968647.690866   \n",
       "5                        Prem Op                 54183.50112   \n",
       "6                    30% of BSCR              5164158.738999   \n",
       "7                        OP risk              5164158.738999   \n",
       "8              Op risk selection                        BSCR   \n",
       "\n",
       "  Final - As at 30th June 2025      Movement  \n",
       "0                  76150932.45 -3.577004e+06  \n",
       "1                 125371386.41 -6.003411e+06  \n",
       "2             206279137.461737  7.324214e+06  \n",
       "4               6188374.123852  2.197264e+05  \n",
       "5                  55686.03624  1.502535e+03  \n",
       "6               5187674.127955  2.351539e+04  \n",
       "7               5187674.127955  2.351539e+04  \n",
       "8                         BSCR  1.000000e+00  "
      ]
     },
     "metadata": {},
     "output_type": "display_data"
    }
   ],
   "source": [
    "all_s2_tables = clean_s2_summary_sheet(file_path = 'documents\\\\2506 MICL_S2 Gross TP walk.xlsx', sheet_name='S2 Balance Sheet Summary')\n",
    "\n",
    "scr_summary = all_s2_tables['scr']\n",
    "\n",
    "op_risk_calc = all_s2_tables['op_risk']"
   ]
  },
  {
   "cell_type": "code",
   "execution_count": 60,
   "metadata": {},
   "outputs": [
    {
     "data": {
      "text/plain": [
       "dict_keys(['s2_balance_sheet', 'scr', 'nl_pr_risk', 'op_risk'])"
      ]
     },
     "execution_count": 60,
     "metadata": {},
     "output_type": "execute_result"
    }
   ],
   "source": []
  },
  {
   "cell_type": "code",
   "execution_count": 6,
   "metadata": {},
   "outputs": [
    {
     "name": "stdout",
     "output_type": "stream",
     "text": [
      "SCR Sum Checks Out\n"
     ]
    }
   ],
   "source": [
    "final_scr = scr_summary.loc[scr_summary['SCR'] == 'SCR', 'Final - As at 30th June 2025'].item()\n",
    "operational = scr_summary.loc[scr_summary['SCR'] == 'Operational', 'Final - As at 30th June 2025'].item()\n",
    "capital_addon = scr_summary.loc[scr_summary['SCR'] == 'Capital add-on', 'Final - As at 30th June 2025'].item()\n",
    "final_bscr = scr_summary.loc[scr_summary['SCR'] == 'Basic SCR', 'Final - As at 30th June 2025'].item()\n",
    "\n",
    "if math.isclose(operational + capital_addon + final_bscr, final_scr):\n",
    "    print('SCR Sum Checks Out')\n",
    "else:\n",
    "    print('SCR Sum Does Not Check Out')\n"
   ]
  },
  {
   "cell_type": "markdown",
   "metadata": {},
   "source": [
    "Construct Operational\n",
    "\n",
    "- **Inputs:**\n",
    "    - **Gross Earned Premium (current year & prior year):** Sourced from `PL`.\n",
    "    - **Gross Technical Provisions (non-life):** Sourced from `BS`.\n",
    "    - **The BSCR:** The diversified sum of the Market, Counterparty, and Underwriting risk modules, calculated in the preceding step of the model.\n",
    "    \n",
    "- Calculation:\n",
    "    1. **Calculate the Premium-Based Component (`Op_Prem`):** This step calculates a value based on the insurer's earned premiums and its recent growth.\n",
    "        - **Formula:** `Op_Prem = 3% × GEP_CY + Max[0, 0.3% × (GEP_CY - 1.2 × GEP_PY)]`.\n",
    "        - This means the model takes **3% of the gross earned premium from the last 12 months** and adds a small additional amount if premium volume has grown by more than 20% compared to the prior year, capturing the operational risk associated with rapid growth.\n",
    "        \n",
    "    2. **Calculate the Provisions-Based Component (`Op_Prov`):** This step calculates a value based on the size of the insurer's technical provisions.\n",
    "        - **Formula:** `Op_Prov = 3% × Max(0, TP_Non-Life)`.\n",
    "        - For a non-life insurer, this is **3% of the gross non-life technical provisions**.\n",
    "        \n",
    "    3. **Determine the Final SCR:** The model then combines these values with the BSCR.\n",
    "        - **Formula:** `SCR_Operational = Min(0.3 × BSCR, Max(Op_Prem, Op_Prov))`.\n",
    "        - The logic is to first take the **larger** of the premium-based and provisions-based components. This result is then compared to **30% of the BSCR**. The final Operational Risk SCR is the **smaller** of these two figures."
   ]
  },
  {
   "cell_type": "code",
   "execution_count": 21,
   "metadata": {},
   "outputs": [
    {
     "name": "stdout",
     "output_type": "stream",
     "text": [
      "Operational Risk Checks Out\n"
     ]
    }
   ],
   "source": [
    "op_risk = op_risk_calc.loc[op_risk_calc['OP risk calc'] == 'OP risk', 'Final - As at 30th June 2025'].item()\n",
    "\n",
    "gep_cy = op_risk_calc.loc[op_risk_calc['OP risk calc'] == 'GEP - historic 1 to 12 months', 'Final - As at 30th June 2025'].item() # gross earned premium in the past 12 months\n",
    "gep_py = op_risk_calc.loc[op_risk_calc['OP risk calc'] == 'GEP - historic 13 - 24 months', 'Final - As at 30th June 2025'].item() # gross earned premiums in the 12 months preceding the past 12 months\n",
    "op_prem = 0.03 * gep_cy + max(0.03 * (gep_cy - 1.2 * gep_py), 0)\n",
    "\n",
    "tp_non_life = op_risk_calc.loc[op_risk_calc['OP risk calc'] == 'Gross TPs', 'Final - As at 30th June 2025'].item() # technical provisions recorded in the non-life underwriting module\n",
    "tp_life = 0 # technical provisions recorded in the life underwriting module\n",
    "op_prov = 0.03 * max(0, tp_non_life) + 0.045 * max(0, tp_life)\n",
    "\n",
    "calc_operational = min(0.3 * final_bscr, max(op_prem, op_prov))\n",
    "\n",
    "if math.isclose(calc_operational, op_risk):\n",
    "    print('Operational Risk Checks Out')\n",
    "else:\n",
    "    print('Operational Risk Does Not Check Out')"
   ]
  },
  {
   "cell_type": "markdown",
   "metadata": {},
   "source": [
    "Source `gep_cy`, `gep_py` and `tp_non_life` myself."
   ]
  },
  {
   "cell_type": "code",
   "execution_count": 22,
   "metadata": {},
   "outputs": [],
   "source": [
    "mi_pl = clean_mi_pl_bs(file_path = 'documents\\\\Jun25 MICL MI Pack v3.1 Isi pack exc PC.xlsx', sheet_name='PL')\n"
   ]
  },
  {
   "cell_type": "markdown",
   "metadata": {},
   "source": [
    "Gross Written Premium 1 to 12 months"
   ]
  },
  {
   "cell_type": "code",
   "execution_count": 53,
   "metadata": {},
   "outputs": [
    {
     "name": "stdout",
     "output_type": "stream",
     "text": [
      "24043974.87\n"
     ]
    }
   ],
   "source": [
    "gross_written_premium = mi_pl.loc[mi_pl[('', 'Description')] == 'Gross written premium', ('YTD', 'Actual')]\n",
    "gross_written_premium = gross_written_premium[:-1].item()\n",
    "change_gross_provision_unearned_premiums = mi_pl.loc[mi_pl[('', 'Description')] == 'Change in the gross provision for unearned premiums', ('YTD', 'Actual')].item()\n",
    "gross_earned_premium = gross_written_premium - change_gross_provision_unearned_premiums\n",
    "print(gross_earned_premium)"
   ]
  },
  {
   "cell_type": "markdown",
   "metadata": {},
   "source": [
    "Gross Written Premium 13 to 24 months"
   ]
  },
  {
   "cell_type": "code",
   "execution_count": 54,
   "metadata": {},
   "outputs": [
    {
     "name": "stdout",
     "output_type": "stream",
     "text": [
      "73348932.74000001\n"
     ]
    }
   ],
   "source": [
    "gross_written_premium_past = mi_pl.loc[mi_pl[('', 'Description')] == 'Gross written premium', ('', 'Prior_Year')]\n",
    "gross_written_premium_past = gross_written_premium_past[:-1].item()\n",
    "change_gross_provision_unearned_premiums_past = mi_pl.loc[mi_pl[('', 'Description')] == 'Change in the gross provision for unearned premiums', ('', 'Prior_Year')].item()\n",
    "gross_earned_premium_past = gross_written_premium_past - change_gross_provision_unearned_premiums_past\n",
    "print(gross_earned_premium_past)"
   ]
  },
  {
   "cell_type": "markdown",
   "metadata": {},
   "source": [
    "Gross Technical Provisions"
   ]
  },
  {
   "cell_type": "code",
   "execution_count": 56,
   "metadata": {},
   "outputs": [
    {
     "name": "stderr",
     "output_type": "stream",
     "text": [
      "c:\\Users\\georg\\Desktop\\mul_doc\\repo\\clean.py:18: FutureWarning: Downcasting object dtype arrays on .fillna, .ffill, .bfill is deprecated and will change in a future version. Call result.infer_objects(copy=False) instead. To opt-in to the future behavior, set `pd.set_option('future.no_silent_downcasting', True)`\n",
      "  top_header = top_header_raw.ffill().tolist()\n"
     ]
    }
   ],
   "source": [
    "mi_bs = clean_mi_pl_bs(file_path = 'documents\\\\Jun25 MICL MI Pack v3.1 Isi pack exc PC.xlsx', sheet_name='BS')"
   ]
  },
  {
   "cell_type": "code",
   "execution_count": 59,
   "metadata": {},
   "outputs": [
    {
     "name": "stdout",
     "output_type": "stream",
     "text": [
      "-261764341.87999997\n"
     ]
    }
   ],
   "source": [
    "provision_for_unearned_premiums = mi_bs.loc[mi_bs[('', 'Description')] == 'Provision for unearned premiums, gross amount', ('2025-06-01 00:00:00', 'Actual')].item()\n",
    "claims_outstanding = mi_bs.loc[mi_bs[('', 'Description')] == 'Claims outstanding, gross amount', ('2025-06-01 00:00:00', 'Actual')].item()\n",
    "ibnr = mi_bs.loc[mi_bs[('', 'Description')] == 'IBNR - Gross Amount', ('2025-06-01 00:00:00', 'Actual')].item()\n",
    "gross_technical_provisions = provision_for_unearned_premiums + claims_outstanding + ibnr\n",
    "print(gross_technical_provisions)"
   ]
  },
  {
   "cell_type": "markdown",
   "metadata": {},
   "source": [
    "BSCR"
   ]
  },
  {
   "cell_type": "code",
   "execution_count": 68,
   "metadata": {},
   "outputs": [
    {
     "data": {
      "text/html": [
       "<div>\n",
       "<style scoped>\n",
       "    .dataframe tbody tr th:only-of-type {\n",
       "        vertical-align: middle;\n",
       "    }\n",
       "\n",
       "    .dataframe tbody tr th {\n",
       "        vertical-align: top;\n",
       "    }\n",
       "\n",
       "    .dataframe thead th {\n",
       "        text-align: right;\n",
       "    }\n",
       "</style>\n",
       "<table border=\"1\" class=\"dataframe\">\n",
       "  <thead>\n",
       "    <tr style=\"text-align: right;\">\n",
       "      <th></th>\n",
       "      <th>SCR</th>\n",
       "      <th>Item</th>\n",
       "      <th>Final - As at 30th April 2025</th>\n",
       "      <th>Final - As at 30th June 2025</th>\n",
       "      <th>Movement</th>\n",
       "    </tr>\n",
       "  </thead>\n",
       "  <tbody>\n",
       "    <tr>\n",
       "      <th>0</th>\n",
       "      <td>Non-life</td>\n",
       "      <td>Premium  &amp; reserve risk</td>\n",
       "      <td>10365908.650862</td>\n",
       "      <td>10530272.232488</td>\n",
       "      <td>1.643636e+05</td>\n",
       "    </tr>\n",
       "    <tr>\n",
       "      <th>1</th>\n",
       "      <td>Non-life</td>\n",
       "      <td>Cat risk</td>\n",
       "      <td>559975.241914</td>\n",
       "      <td>559975.241914</td>\n",
       "      <td>0.000000e+00</td>\n",
       "    </tr>\n",
       "    <tr>\n",
       "      <th>2</th>\n",
       "      <td>Non-life</td>\n",
       "      <td>Lapse risk</td>\n",
       "      <td>0</td>\n",
       "      <td>0</td>\n",
       "      <td>0.000000e+00</td>\n",
       "    </tr>\n",
       "    <tr>\n",
       "      <th>3</th>\n",
       "      <td>Non-life</td>\n",
       "      <td>Diversification</td>\n",
       "      <td>-405999.837722</td>\n",
       "      <td>-406214.92895</td>\n",
       "      <td>-2.150912e+02</td>\n",
       "    </tr>\n",
       "    <tr>\n",
       "      <th>4</th>\n",
       "      <td>Non-life</td>\n",
       "      <td>Total</td>\n",
       "      <td>10519884.055055</td>\n",
       "      <td>10684032.545451</td>\n",
       "      <td>1.641485e+05</td>\n",
       "    </tr>\n",
       "    <tr>\n",
       "      <th>6</th>\n",
       "      <td>Counterparty</td>\n",
       "      <td>Type 1</td>\n",
       "      <td>3675997.468595</td>\n",
       "      <td>3637046.482763</td>\n",
       "      <td>-3.895099e+04</td>\n",
       "    </tr>\n",
       "    <tr>\n",
       "      <th>7</th>\n",
       "      <td>Counterparty</td>\n",
       "      <td>Type 2</td>\n",
       "      <td>359890.989</td>\n",
       "      <td>366670.218</td>\n",
       "      <td>6.779229e+03</td>\n",
       "    </tr>\n",
       "    <tr>\n",
       "      <th>8</th>\n",
       "      <td>Counterparty</td>\n",
       "      <td>Diversification</td>\n",
       "      <td>-82798.974687</td>\n",
       "      <td>-84156.890451</td>\n",
       "      <td>-1.357916e+03</td>\n",
       "    </tr>\n",
       "    <tr>\n",
       "      <th>9</th>\n",
       "      <td>Counterparty</td>\n",
       "      <td>Total</td>\n",
       "      <td>3953089.482909</td>\n",
       "      <td>3919559.810312</td>\n",
       "      <td>-3.352967e+04</td>\n",
       "    </tr>\n",
       "    <tr>\n",
       "      <th>11</th>\n",
       "      <td>Market</td>\n",
       "      <td>Interest rate</td>\n",
       "      <td>703768.605922</td>\n",
       "      <td>683872.125352</td>\n",
       "      <td>-1.989648e+04</td>\n",
       "    </tr>\n",
       "    <tr>\n",
       "      <th>12</th>\n",
       "      <td>Market</td>\n",
       "      <td>Spread</td>\n",
       "      <td>1372817.269221</td>\n",
       "      <td>1375041.729115</td>\n",
       "      <td>2.224460e+03</td>\n",
       "    </tr>\n",
       "    <tr>\n",
       "      <th>13</th>\n",
       "      <td>Market</td>\n",
       "      <td>Equity</td>\n",
       "      <td>4304611.326755</td>\n",
       "      <td>4297161.518739</td>\n",
       "      <td>-7.449808e+03</td>\n",
       "    </tr>\n",
       "    <tr>\n",
       "      <th>14</th>\n",
       "      <td>Market</td>\n",
       "      <td>Currency</td>\n",
       "      <td>40373.9475</td>\n",
       "      <td>40373.9475</td>\n",
       "      <td>0.000000e+00</td>\n",
       "    </tr>\n",
       "    <tr>\n",
       "      <th>15</th>\n",
       "      <td>Market</td>\n",
       "      <td>Property</td>\n",
       "      <td>0</td>\n",
       "      <td>0</td>\n",
       "      <td>0.000000e+00</td>\n",
       "    </tr>\n",
       "    <tr>\n",
       "      <th>16</th>\n",
       "      <td>Market</td>\n",
       "      <td>Concentration</td>\n",
       "      <td>5884768.577268</td>\n",
       "      <td>5822627.344091</td>\n",
       "      <td>-6.214123e+04</td>\n",
       "    </tr>\n",
       "    <tr>\n",
       "      <th>17</th>\n",
       "      <td>Market</td>\n",
       "      <td>Diversification</td>\n",
       "      <td>-4028036.297701</td>\n",
       "      <td>-3997205.014903</td>\n",
       "      <td>3.083128e+04</td>\n",
       "    </tr>\n",
       "    <tr>\n",
       "      <th>18</th>\n",
       "      <td>Market</td>\n",
       "      <td>Total</td>\n",
       "      <td>8278303.428966</td>\n",
       "      <td>8221871.649894</td>\n",
       "      <td>-5.643178e+04</td>\n",
       "    </tr>\n",
       "    <tr>\n",
       "      <th>20</th>\n",
       "      <td>Diversification</td>\n",
       "      <td>Total</td>\n",
       "      <td>-5537414.503598</td>\n",
       "      <td>-5533216.912476</td>\n",
       "      <td>4.197591e+03</td>\n",
       "    </tr>\n",
       "    <tr>\n",
       "      <th>22</th>\n",
       "      <td>Basic SCR</td>\n",
       "      <td>Total</td>\n",
       "      <td>17213862.463331</td>\n",
       "      <td>17292247.093182</td>\n",
       "      <td>7.838463e+04</td>\n",
       "    </tr>\n",
       "    <tr>\n",
       "      <th>24</th>\n",
       "      <td>Operational</td>\n",
       "      <td>Total</td>\n",
       "      <td>5164158.738999</td>\n",
       "      <td>5187674.127955</td>\n",
       "      <td>2.351539e+04</td>\n",
       "    </tr>\n",
       "    <tr>\n",
       "      <th>26</th>\n",
       "      <td>Capital add-on</td>\n",
       "      <td>Total</td>\n",
       "      <td>925369.00481</td>\n",
       "      <td>925369.00481</td>\n",
       "      <td>0.000000e+00</td>\n",
       "    </tr>\n",
       "    <tr>\n",
       "      <th>28</th>\n",
       "      <td>SCR</td>\n",
       "      <td>Total</td>\n",
       "      <td>23303390.207141</td>\n",
       "      <td>23405290.225947</td>\n",
       "      <td>1.019000e+05</td>\n",
       "    </tr>\n",
       "    <tr>\n",
       "      <th>30</th>\n",
       "      <td>Solvency Ratio</td>\n",
       "      <td>Total</td>\n",
       "      <td>1.242404</td>\n",
       "      <td>1.0646</td>\n",
       "      <td>-1.778040e-01</td>\n",
       "    </tr>\n",
       "    <tr>\n",
       "      <th>32</th>\n",
       "      <td>Solvency Surplus/Deficit</td>\n",
       "      <td>Total</td>\n",
       "      <td>5648829.180995</td>\n",
       "      <td>1511974.878465</td>\n",
       "      <td>-4.136854e+06</td>\n",
       "    </tr>\n",
       "  </tbody>\n",
       "</table>\n",
       "</div>"
      ],
      "text/plain": [
       "                         SCR                     Item Final - As at 30th April 2025 Final - As at 30th June 2025      Movement\n",
       "0                   Non-life  Premium  & reserve risk               10365908.650862              10530272.232488  1.643636e+05\n",
       "1                   Non-life                 Cat risk                 559975.241914                559975.241914  0.000000e+00\n",
       "2                   Non-life               Lapse risk                             0                            0  0.000000e+00\n",
       "3                   Non-life          Diversification                -405999.837722                -406214.92895 -2.150912e+02\n",
       "4                   Non-life                    Total               10519884.055055              10684032.545451  1.641485e+05\n",
       "6               Counterparty                   Type 1                3675997.468595               3637046.482763 -3.895099e+04\n",
       "7               Counterparty                   Type 2                    359890.989                   366670.218  6.779229e+03\n",
       "8               Counterparty          Diversification                 -82798.974687                -84156.890451 -1.357916e+03\n",
       "9               Counterparty                    Total                3953089.482909               3919559.810312 -3.352967e+04\n",
       "11                    Market            Interest rate                 703768.605922                683872.125352 -1.989648e+04\n",
       "12                    Market                   Spread                1372817.269221               1375041.729115  2.224460e+03\n",
       "13                    Market                   Equity                4304611.326755               4297161.518739 -7.449808e+03\n",
       "14                    Market                 Currency                    40373.9475                   40373.9475  0.000000e+00\n",
       "15                    Market                 Property                             0                            0  0.000000e+00\n",
       "16                    Market            Concentration                5884768.577268               5822627.344091 -6.214123e+04\n",
       "17                    Market          Diversification               -4028036.297701              -3997205.014903  3.083128e+04\n",
       "18                    Market                    Total                8278303.428966               8221871.649894 -5.643178e+04\n",
       "20           Diversification                    Total               -5537414.503598              -5533216.912476  4.197591e+03\n",
       "22                 Basic SCR                    Total               17213862.463331              17292247.093182  7.838463e+04\n",
       "24               Operational                    Total                5164158.738999               5187674.127955  2.351539e+04\n",
       "26            Capital add-on                    Total                  925369.00481                 925369.00481  0.000000e+00\n",
       "28                       SCR                    Total               23303390.207141              23405290.225947  1.019000e+05\n",
       "30            Solvency Ratio                    Total                      1.242404                       1.0646 -1.778040e-01\n",
       "32  Solvency Surplus/Deficit                    Total                5648829.180995               1511974.878465 -4.136854e+06"
      ]
     },
     "metadata": {},
     "output_type": "display_data"
    }
   ],
   "source": [
    "display(scr_summary)"
   ]
  },
  {
   "cell_type": "code",
   "execution_count": 87,
   "metadata": {},
   "outputs": [
    {
     "name": "stdout",
     "output_type": "stream",
     "text": [
      "BSCR Checks Out\n",
      "Diversification Checks Out\n"
     ]
    }
   ],
   "source": [
    "labels = ['scr_market', 'scr_counterparty', 'scr_non_life'] # set order for risks; the correlation matrix is built with this order in mind\n",
    "\n",
    "correlation_matrix_data = np.array([\n",
    "    [1.00, 0.25, 0.25],\n",
    "    [0.25, 1.00, 0.50],\n",
    "    [0.25, 0.50, 1.00]\n",
    "])\n",
    "\n",
    "scr_values = {\n",
    "    'scr_market': scr_summary.loc[(scr_summary['SCR'] == 'Market') & (scr_summary['Item'] == 'Total'), 'Final - As at 30th June 2025'].item(),\n",
    "    'scr_counterparty': scr_summary.loc[(scr_summary['SCR'] == 'Counterparty') & (scr_summary['Item'] == 'Total'), 'Final - As at 30th June 2025'].item(),\n",
    "    'scr_non_life': scr_summary.loc[(scr_summary['SCR'] == 'Non-life') & (scr_summary['Item'] == 'Total'), 'Final - As at 30th June 2025'].item()\n",
    "}\n",
    "\n",
    "scr_vector = np.array([scr_values[label] for label in labels]) # build scr_vector in order required to match correlation matrix\n",
    "\n",
    "# BSCR = SQRT(Σi,j Corr(i,j) * SCRi * SCRj) can be expressed in matrix notation as: BSCR = SQRT(SCR_vector^T * Correlation_Matrix * SCR_vector) where ^T denotes the transpose of the vector.\n",
    "term1 = scr_vector.T @ correlation_matrix_data # weigh each SCR value by its correlation to all other risks\n",
    "variance = term1 @ scr_vector # dot product\n",
    "calc_bscr = np.sqrt(variance) # brings back to original currency unit\n",
    "\n",
    "bscr = scr_summary.loc[scr_summary['SCR'] == 'Basic SCR', 'Final - As at 30th June 2025'].item()\n",
    "\n",
    "if math.isclose(calc_bscr, bscr):\n",
    "    print('BSCR Checks Out')\n",
    "else:\n",
    "    print('BSCR Does Not Check Out')\n",
    "\n",
    "diversification = scr_summary.loc[scr_summary['SCR'] == 'Diversification', 'Final - As at 30th June 2025'].item()\n",
    "\n",
    "calc_diversification = calc_bscr - sum(scr_vector)\n",
    "\n",
    "if math.isclose(calc_diversification, diversification):\n",
    "    print('Diversification Checks Out')\n",
    "else:\n",
    "    print('Diversification Does Not Check Out')"
   ]
  },
  {
   "cell_type": "markdown",
   "metadata": {},
   "source": [
    "Market"
   ]
  },
  {
   "cell_type": "code",
   "execution_count": null,
   "metadata": {},
   "outputs": [],
   "source": []
  },
  {
   "cell_type": "code",
   "execution_count": 88,
   "metadata": {},
   "outputs": [
    {
     "data": {
      "text/plain": [
       "np.float64(22825464.005657233)"
      ]
     },
     "execution_count": 88,
     "metadata": {},
     "output_type": "execute_result"
    }
   ],
   "source": [
    "labels = ['interest_risk', 'equity_risk', 'spread_risk', 'concentration_risk', 'currency_risk'] # set order for risks; the correlation matrix is built with this order in mind\n",
    "\n",
    "correlation_matrix_data = np.array([\n",
    "    [1.00, 0.25, 0.25],\n",
    "    [0.25, 1.00, 0.50],\n",
    "    [0.25, 0.50, 1.00]\n",
    "])\n",
    "\n",
    "scr_values = {\n",
    "    'scr_market': scr_summary.loc[(scr_summary['SCR'] == 'Market') & (scr_summary['Item'] == 'Total'), 'Final - As at 30th June 2025'].item(),\n",
    "    'scr_counterparty': scr_summary.loc[(scr_summary['SCR'] == 'Counterparty') & (scr_summary['Item'] == 'Total'), 'Final - As at 30th June 2025'].item(),\n",
    "    'scr_non_life': scr_summary.loc[(scr_summary['SCR'] == 'Non-life') & (scr_summary['Item'] == 'Total'), 'Final - As at 30th June 2025'].item()\n",
    "}\n",
    "\n",
    "scr_vector = np.array([scr_values[label] for label in labels]) # build scr_vector in order required to match correlation matrix\n",
    "\n",
    "# BSCR = SQRT(Σi,j Corr(i,j) * SCRi * SCRj) can be expressed in matrix notation as: BSCR = SQRT(SCR_vector^T * Correlation_Matrix * SCR_vector) where ^T denotes the transpose of the vector.\n",
    "term1 = scr_vector.T @ correlation_matrix_data # weigh each SCR value by its correlation to all other risks\n",
    "variance = term1 @ scr_vector # dot product\n",
    "calc_bscr = np.sqrt(variance) # brings back to original currency unit\n",
    "\n",
    "bscr = scr_summary.loc[scr_summary['SCR'] == 'Basic SCR', 'Final - As at 30th June 2025'].item()\n",
    "\n",
    "if math.isclose(calc_bscr, bscr):\n",
    "    print('BSCR Checks Out')\n",
    "else:\n",
    "    print('BSCR Does Not Check Out')\n",
    "\n",
    "diversification = scr_summary.loc[scr_summary['SCR'] == 'Diversification', 'Final - As at 30th June 2025'].item()\n",
    "\n",
    "calc_diversification = calc_bscr - sum(scr_vector)\n",
    "\n",
    "if math.isclose(calc_diversification, diversification):\n",
    "    print('Diversification Checks Out')\n",
    "else:\n",
    "    print('Diversification Does Not Check Out')"
   ]
  }
 ],
 "metadata": {
  "kernelspec": {
   "display_name": "virtual_environment",
   "language": "python",
   "name": "python3"
  },
  "language_info": {
   "codemirror_mode": {
    "name": "ipython",
    "version": 3
   },
   "file_extension": ".py",
   "mimetype": "text/x-python",
   "name": "python",
   "nbconvert_exporter": "python",
   "pygments_lexer": "ipython3",
   "version": "3.11.5"
  }
 },
 "nbformat": 4,
 "nbformat_minor": 2
}
