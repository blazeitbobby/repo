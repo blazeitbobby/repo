{
 "cells": [
  {
   "cell_type": "code",
   "execution_count": 12,
   "metadata": {},
   "outputs": [],
   "source": [
    "from clean import clean_mi_pl_bs, clean_mi_deferrals, clean_gross_tp_walk, clean_unearned_premium_unexpired_risk, clean_s2_summary_sheet, clean_version_control_solvency_balance_sheet, clean_version_control_scr_review, clean_version_control_s2_gaap, clean_version_control_s2_cap_prov_summary\n",
    "import pandas as pd\n",
    "import math\n",
    "import numpy as np"
   ]
  },
  {
   "cell_type": "code",
   "execution_count": 13,
   "metadata": {},
   "outputs": [
    {
     "name": "stdout",
     "output_type": "stream",
     "text": [
      "The autoreload extension is already loaded. To reload it, use:\n",
      "  %reload_ext autoreload\n"
     ]
    }
   ],
   "source": [
    "%load_ext autoreload\n",
    "%autoreload 2"
   ]
  },
  {
   "cell_type": "code",
   "execution_count": 31,
   "metadata": {},
   "outputs": [],
   "source": [
    "# pd.set_option('display.max_rows', None)\n",
    "# pd.set_option('display.width', 1000)\n",
    "# pd.set_option('display.max_colwidth', None)"
   ]
  },
  {
   "cell_type": "code",
   "execution_count": 32,
   "metadata": {},
   "outputs": [
    {
     "name": "stderr",
     "output_type": "stream",
     "text": [
      "<string>:8: FutureWarning: Downcasting object dtype arrays on .fillna, .ffill, .bfill is deprecated and will change in a future version. Call result.infer_objects(copy=False) instead. To opt-in to the future behavior, set `pd.set_option('future.no_silent_downcasting', True)`\n"
     ]
    }
   ],
   "source": [
    "all_s2_tables = clean_s2_summary_sheet(file_path = 'documents\\\\2506 MICL_S2 Gross TP walk.xlsx', sheet_name='S2 Balance Sheet Summary')\n",
    "scr_summary = all_s2_tables['scr']\n",
    "mi_bs = clean_mi_pl_bs(file_path = 'documents\\\\Jun25 MICL MI Pack v3.1 Isi pack exc PC.xlsx', sheet_name='BS')\n",
    "solvency_balance_sheet_liabilities = clean_version_control_solvency_balance_sheet(file_path = 'documents\\\\2506 MICL Version Control.xlsx', skip_rows = 55, n_rows = 34, element = 'Liabilities')\n",
    "# op_risk_calc = all_s2_tables['op_risk']"
   ]
  },
  {
   "cell_type": "markdown",
   "metadata": {},
   "source": [
    "Currency Risk"
   ]
  },
  {
   "cell_type": "code",
   "execution_count": 35,
   "metadata": {},
   "outputs": [
    {
     "name": "stdout",
     "output_type": "stream",
     "text": [
      "13895084.22\n",
      "12558987.14\n",
      "-334024.27 40373.94749999978\n"
     ]
    }
   ],
   "source": [
    "usd_bs = ['Dayim Loan (USD Purchase)', 'WSL (8VC) Shares (USD purchase)', 'CCA Longevity III DAC (USD)', 'Perceptive', 'RBS USD Account', 'JSS Forwards']\n",
    "usd_list = []\n",
    "for usd in usd_bs:\n",
    "    usd_list.append(mi_bs.loc[mi_bs['Description']== usd, '2025-06-01 00:00:00 Actual'].item())\n",
    "\n",
    "usd_list[-1] *= -1\n",
    "\n",
    "currency_net_assets = sum(usd_list)\n",
    "\n",
    "usd_forward = solvency_balance_sheet_liabilities.loc[solvency_balance_sheet_liabilities['']== 'Derivatives', 'Col N BS SII BS 2025-06-01 00:00:00'].item()\n",
    "\n",
    "currency_risk_exposure = currency_net_assets - usd_forward\n",
    "\n",
    "currency_scr = 0.25 * currency_risk_exposure\n",
    "\n",
    "currency_scr_provided = scr_summary.loc[scr_summary['Item'] == 'Currency', 'Final - As at 30th June 2025'].item()\n",
    "print(usd_forward)\n",
    "print(currency_net_assets)\n",
    "print(currency_scr, currency_scr_provided)"
   ]
  },
  {
   "cell_type": "code",
   "execution_count": 28,
   "metadata": {},
   "outputs": [
    {
     "data": {
      "text/plain": [
       "12558987.14"
      ]
     },
     "execution_count": 28,
     "metadata": {},
     "output_type": "execute_result"
    }
   ],
   "source": [
    "currency_risk_exposure"
   ]
  },
  {
   "cell_type": "markdown",
   "metadata": {},
   "source": [
    "Interest rate risk: those assets and liabilities are exposed to movements in the term structure of interest rates:\n",
    "- assets stressed within the spread risk sub-module (i.e. bonds and loans)\n",
    "- technical provisions"
   ]
  },
  {
   "cell_type": "markdown",
   "metadata": {},
   "source": [
    "Trying to get yield curve from BoE"
   ]
  },
  {
   "cell_type": "code",
   "execution_count": 9,
   "metadata": {},
   "outputs": [
    {
     "name": "stdout",
     "output_type": "stream",
     "text": [
      "Fetching data from the Bank of England...\n",
      "\n",
      "--- SERVER RESPONSE (first 500 chars) ---\n",
      "<!DOCTYPE html>\n",
      "<html lang=\"en\" class=\"no-js\">\n",
      "    <head>\n",
      "    <meta charset=\"utf-8\">\n",
      "    <meta http-equiv=\"Content-type\" content=\"text/html; charset=utf-8\">\n",
      "    <meta http-equiv=\"X-UA-Compatible\" content=\"IE=edge\">\n",
      "    <meta name=\"viewport\" content=\"width=device-width, initial-scale=1.0\">\n",
      "    <meta name=\"format-detection\" content=\"telephone=no\">\n",
      "    <title>Error</title>\n",
      "    <link rel=\"shortcut icon\" href=\"favicon.ico\" type=\"image/x-icon\">\n",
      "<link rel=\"stylesheet\" href=\"assets/css/layout.\n",
      "-------------------------------------------\n",
      "\n",
      "\n",
      "❌ An error occurred during data processing: Could not find the header row starting with 'DATE' in the CSV data.\n"
     ]
    }
   ],
   "source": [
    "# import pandas as pd\n",
    "# import requests\n",
    "# import io\n",
    "# import matplotlib.pyplot as plt\n",
    "# import matplotlib.ticker as mticker\n",
    "\n",
    "# # --- 1. Define Request Parameters ---\n",
    "\n",
    "# # ✨ UPDATED: The old IUDZA... codes are obsolete. These are the new, correct codes.\n",
    "# SERIES_CODES = [\n",
    "#     'CFCMG01', 'CFCMG02', 'CFCMG03', 'CFCMG04', 'CFCMG05', 'CFCMG06', 'CFCMG07',\n",
    "#     'CFCMG08', 'CFCMG09', 'CFCMG10', 'CFCMG11', 'CFCMG12', 'CFCMG13', 'CFCMG14',\n",
    "#     'CFCMG15', 'CFCMG16', 'CFCMG17', 'CFCMG18', 'CFCMG19', 'CFCMG20', 'CFCMG21',\n",
    "#     'CFCMG22', 'CFCMG23', 'CFCMG24'\n",
    "# ]\n",
    "# start_date = \"01/Jun/2025\"\n",
    "# end_date = \"30/Jun/2025\"\n",
    "\n",
    "# # --- 2. Construct URL and Fetch Data ---\n",
    "# base_url = \"https://www.bankofengland.co.uk/boeapps/database/fromshowcolumns.asp\"\n",
    "# params = {\n",
    "#     \"Datefrom\": start_date, \"Dateto\": end_date, \"SeriesCodes\": \",\".join(SERIES_CODES),\n",
    "#     \"CSVF\": \"TN\", \"UsingCodes\": \"Y\", \"VPD\": \"Y\", \"VFD\": \"N\", \"xml.x\": \"yes\"\n",
    "# }\n",
    "# headers = {\n",
    "#     'User-Agent': 'Mozilla/5.0 (Windows NT 10.0; Win64; x64) AppleWebKit/537.36 (KHTML, like Gecko) Chrome/91.0.4472.124 Safari/537.36'\n",
    "# }\n",
    "\n",
    "# print(\"Fetching data from the Bank of England...\")\n",
    "\n",
    "# try:\n",
    "#     response = requests.get(base_url, params=params, headers=headers)\n",
    "#     response.raise_for_status()\n",
    "    \n",
    "#     # --- 3. Robust Parsing Logic ---\n",
    "#     raw_csv_text = response.text\n",
    "#     lines = raw_csv_text.strip().split('\\n')\n",
    "#     header_row_index = -1\n",
    "#     for i, line in enumerate(lines):\n",
    "#         # The new header is \"DATE\" in uppercase\n",
    "#         if line.strip().upper().startswith('DATE'):\n",
    "#             header_row_index = i\n",
    "#             break\n",
    "            \n",
    "#     if header_row_index == -1:\n",
    "#         # Add a debug print to see what the server is actually sending\n",
    "#         print(\"\\n--- SERVER RESPONSE (first 500 chars) ---\")\n",
    "#         print(raw_csv_text[:500])\n",
    "#         print(\"-------------------------------------------\\n\")\n",
    "#         raise ValueError(\"Could not find the header row starting with 'DATE' in the CSV data.\")\n",
    "\n",
    "#     csv_data = io.StringIO(raw_csv_text)\n",
    "#     yield_curve_df = pd.read_csv(csv_data, header=header_row_index)\n",
    "\n",
    "#     # --- 4. Clean and Display Data ---\n",
    "#     # The date column is now named 'DATE'\n",
    "#     yield_curve_df.rename(columns={'DATE': 'Date'}, inplace=True)\n",
    "#     yield_curve_df['Date'] = pd.to_datetime(yield_curve_df['Date'], format='%d %b %Y')\n",
    "#     yield_curve_df.set_index('Date', inplace=True)\n",
    "\n",
    "#     # The column names are now the series codes, we need to map them to maturities\n",
    "#     maturities_map = {\n",
    "#         'CFCMG01': '0.5 YR', 'CFCMG02': '1 YR', 'CFCMG03': '2 YR', 'CFCMG04': '3 YR',\n",
    "#         'CFCMG05': '4 YR', 'CFCMG06': '5 YR', 'CFCMG07': '6 YR', 'CFCMG08': '7 YR',\n",
    "#         'CFCMG09': '8 YR', 'CFCMG10': '9 YR', 'CFCMG11': '10 YR', 'CFCMG12': '11 YR',\n",
    "#         'CFCMG13': '12 YR', 'CFCMG14': '13 YR', 'CFCMG15': '14 YR', 'CFCMG16': '15 YR',\n",
    "#         'CFCMG17': '16 YR', 'CFCMG18': '17 YR', 'CFCMG19': '18 YR', 'CFCMG20': '19 YR',\n",
    "#         'CFCMG21': '20 YR', 'CFCMG22': '25 YR', 'CFCMG23': '30 YR', 'CFCMG24': '40 YR'\n",
    "#     }\n",
    "#     yield_curve_df.rename(columns=maturities_map, inplace=True)\n",
    "\n",
    "#     for col in yield_curve_df.columns:\n",
    "#         yield_curve_df[col] = pd.to_numeric(yield_curve_df[col], errors='coerce')\n",
    "\n",
    "#     print(\"\\n✅ Success! GBP yield curve for June 2025:\")\n",
    "#     print(yield_curve_df.head())\n",
    "\n",
    "# except requests.exceptions.RequestException as e:\n",
    "#     print(f\"\\n❌ Error fetching data: {e}\")\n",
    "# except Exception as e:\n",
    "#     print(f\"\\n❌ An error occurred during data processing: {e}\")"
   ]
  },
  {
   "cell_type": "markdown",
   "metadata": {},
   "source": [
    "Construct Operational\n",
    "\n",
    "- **Inputs:**\n",
    "    - **Gross Earned Premium (current year & prior year):** Sourced from `PL`.\n",
    "    - **Gross Technical Provisions (non-life):** Sourced from `BS`.\n",
    "    - **The BSCR:** The diversified sum of the Market, Counterparty, and Underwriting risk modules, calculated in the preceding step of the model.\n",
    "    \n",
    "- Calculation:\n",
    "    1. **Calculate the Premium-Based Component (`Op_Prem`):** This step calculates a value based on the insurer's earned premiums and its recent growth.\n",
    "        - **Formula:** `Op_Prem = 3% × GEP_CY + Max[0, 0.3% × (GEP_CY - 1.2 × GEP_PY)]`.\n",
    "        - This means the model takes **3% of the gross earned premium from the last 12 months** and adds a small additional amount if premium volume has grown by more than 20% compared to the prior year, capturing the operational risk associated with rapid growth.\n",
    "        \n",
    "    2. **Calculate the Provisions-Based Component (`Op_Prov`):** This step calculates a value based on the size of the insurer's technical provisions.\n",
    "        - **Formula:** `Op_Prov = 3% × Max(0, TP_Non-Life)`.\n",
    "        - For a non-life insurer, this is **3% of the gross non-life technical provisions**.\n",
    "        \n",
    "    3. **Determine the Final SCR:** The model then combines these values with the BSCR.\n",
    "        - **Formula:** `SCR_Operational = Min(0.3 × BSCR, Max(Op_Prem, Op_Prov))`.\n",
    "        - The logic is to first take the **larger** of the premium-based and provisions-based components. This result is then compared to **30% of the BSCR**. The final Operational Risk SCR is the **smaller** of these two figures."
   ]
  },
  {
   "cell_type": "code",
   "execution_count": 34,
   "metadata": {},
   "outputs": [],
   "source": [
    "# op_risk = op_risk_calc.loc[op_risk_calc['OP risk calc'] == 'OP risk', 'Final - As at 30th June 2025'].item()\n",
    "\n",
    "# gep_cy = op_risk_calc.loc[op_risk_calc['OP risk calc'] == 'GEP - historic 1 to 12 months', 'Final - As at 30th June 2025'].item() # gross earned premium in the past 12 months\n",
    "# gep_py = op_risk_calc.loc[op_risk_calc['OP risk calc'] == 'GEP - historic 13 - 24 months', 'Final - As at 30th June 2025'].item() # gross earned premiums in the 12 months preceding the past 12 months\n",
    "# op_prem = 0.03 * gep_cy + max(0.03 * (gep_cy - 1.2 * gep_py), 0)\n",
    "\n",
    "# tp_non_life = op_risk_calc.loc[op_risk_calc['OP risk calc'] == 'Gross TPs', 'Final - As at 30th June 2025'].item() # technical provisions recorded in the non-life underwriting module\n",
    "# tp_life = 0 # technical provisions recorded in the life underwriting module\n",
    "# op_prov = 0.03 * max(0, tp_non_life) + 0.045 * max(0, tp_life)\n",
    "\n",
    "# calc_operational = min(0.3 * final_bscr, max(op_prem, op_prov))\n",
    "\n",
    "# if math.isclose(calc_operational, op_risk):\n",
    "#     print('Operational Risk Checks Out')\n",
    "# else:\n",
    "#     print('Operational Risk Does Not Check Out')"
   ]
  },
  {
   "cell_type": "markdown",
   "metadata": {},
   "source": [
    "Source `gep_cy`, `gep_py` and `tp_non_life` myself."
   ]
  },
  {
   "cell_type": "code",
   "execution_count": 35,
   "metadata": {},
   "outputs": [],
   "source": [
    "# mi_pl = clean_mi_pl_bs(file_path = 'documents\\\\Jun25 MICL MI Pack v3.1 Isi pack exc PC.xlsx', sheet_name='PL')\n"
   ]
  },
  {
   "cell_type": "markdown",
   "metadata": {},
   "source": [
    "Gross Written Premium 1 to 12 months"
   ]
  },
  {
   "cell_type": "code",
   "execution_count": 36,
   "metadata": {},
   "outputs": [],
   "source": [
    "# gross_written_premium = mi_pl.loc[mi_pl[('', 'Description')] == 'Gross written premium', ('YTD', 'Actual')]\n",
    "# gross_written_premium = gross_written_premium[:-1].item()\n",
    "# change_gross_provision_unearned_premiums = mi_pl.loc[mi_pl[('', 'Description')] == 'Change in the gross provision for unearned premiums', ('YTD', 'Actual')].item()\n",
    "# gross_earned_premium = gross_written_premium - change_gross_provision_unearned_premiums\n",
    "# print(gross_earned_premium)"
   ]
  },
  {
   "cell_type": "markdown",
   "metadata": {},
   "source": [
    "Gross Written Premium 13 to 24 months"
   ]
  },
  {
   "cell_type": "code",
   "execution_count": 37,
   "metadata": {},
   "outputs": [],
   "source": [
    "# gross_written_premium_past = mi_pl.loc[mi_pl[('', 'Description')] == 'Gross written premium', ('', 'Prior_Year')]\n",
    "# gross_written_premium_past = gross_written_premium_past[:-1].item()\n",
    "# change_gross_provision_unearned_premiums_past = mi_pl.loc[mi_pl[('', 'Description')] == 'Change in the gross provision for unearned premiums', ('', 'Prior_Year')].item()\n",
    "# gross_earned_premium_past = gross_written_premium_past - change_gross_provision_unearned_premiums_past\n",
    "# print(gross_earned_premium_past)"
   ]
  },
  {
   "cell_type": "markdown",
   "metadata": {},
   "source": [
    "Gross Technical Provisions"
   ]
  },
  {
   "cell_type": "code",
   "execution_count": 38,
   "metadata": {},
   "outputs": [],
   "source": [
    "# mi_bs = clean_mi_pl_bs(file_path = 'documents\\\\Jun25 MICL MI Pack v3.1 Isi pack exc PC.xlsx', sheet_name='BS')"
   ]
  },
  {
   "cell_type": "code",
   "execution_count": 39,
   "metadata": {},
   "outputs": [],
   "source": [
    "# provision_for_unearned_premiums = mi_bs.loc[mi_bs[('', 'Description')] == 'Provision for unearned premiums, gross amount', ('2025-06-01 00:00:00', 'Actual')].item()\n",
    "# claims_outstanding = mi_bs.loc[mi_bs[('', 'Description')] == 'Claims outstanding, gross amount', ('2025-06-01 00:00:00', 'Actual')].item()\n",
    "# ibnr = mi_bs.loc[mi_bs[('', 'Description')] == 'IBNR - Gross Amount', ('2025-06-01 00:00:00', 'Actual')].item()\n",
    "# gross_technical_provisions = provision_for_unearned_premiums + claims_outstanding + ibnr\n",
    "# print(gross_technical_provisions)"
   ]
  },
  {
   "cell_type": "markdown",
   "metadata": {},
   "source": [
    "Check to ensure calcualtion is correct"
   ]
  },
  {
   "cell_type": "code",
   "execution_count": 40,
   "metadata": {},
   "outputs": [],
   "source": [
    "def run_check(name: str, calculated_value: float, provided_value: float):\n",
    "    \"\"\"Compares a calculated value to a provided value and prints the result.\"\"\"\n",
    "    if provided_value is None:\n",
    "        print(f\"⚠️ {name}: Cannot check, provided value not found.\")\n",
    "        return\n",
    "\n",
    "    if math.isclose(calculated_value, provided_value):\n",
    "        print(f\"✅ {name}: Checks out.\")\n",
    "    else:\n",
    "        diff = abs(calculated_value - provided_value)\n",
    "        # Using an f-string to format the number with commas and 2 decimal places\n",
    "        print(f\"❌ {name}: Does NOT check out. Difference is {diff:,.2f}.\")"
   ]
  },
  {
   "cell_type": "markdown",
   "metadata": {},
   "source": [
    "Function SCR Module"
   ]
  },
  {
   "cell_type": "code",
   "execution_count": 41,
   "metadata": {},
   "outputs": [],
   "source": [
    "def scr_module(correlation_matrix, risk_type, labels):\n",
    "\n",
    "    value_column = 'Final - As at 30th June 2025'\n",
    "\n",
    "    data = scr_summary[\n",
    "        (scr_summary['SCR'] == risk_type) &\n",
    "        (scr_summary['Item'].isin(labels))\n",
    "    ].set_index('Item') # Set 'Item' as the index to allow ordering\n",
    "\n",
    "    # Reindex the data to match the labels order, ensuring the vector is correct; extract the column of values and convert it to a NumPy array.\n",
    "    vector = data.reindex(labels)[value_column].to_numpy()\n",
    "\n",
    "    # vector.T @ correlation_matrix: weigh each SCR value by its correlation to all other risks & dot product with vector\n",
    "    variance = vector.T @ correlation_matrix @ vector\n",
    "    calc_scr = np.sqrt(variance) # bring back to original currency unit\n",
    "\n",
    "    calc_diversification = calc_scr - sum(vector)\n",
    "\n",
    "    validation_items = ['Total', 'Diversification']\n",
    "\n",
    "    provided_values = scr_summary[\n",
    "        (scr_summary['SCR'] == risk_type) &\n",
    "        (scr_summary['Item'].isin(validation_items))\n",
    "    ].set_index('Item')[value_column] # Creates a Pandas Series indexed by 'Item'\n",
    "\n",
    "    scr_provided = provided_values.get('Total')\n",
    "    diversification_scr_provided = provided_values.get('Diversification')\n",
    "\n",
    "    print(f\"--- {risk_type} Risk Validation ---\")\n",
    "    run_check(name=f\"{risk_type} SCR\",\n",
    "            calculated_value=calc_scr,\n",
    "            provided_value=scr_provided)\n",
    "\n",
    "    run_check(name=\"Diversification Benefit\",\n",
    "            calculated_value=calc_diversification,\n",
    "            provided_value=diversification_scr_provided)\n",
    "\n",
    "    return calc_scr"
   ]
  },
  {
   "cell_type": "markdown",
   "metadata": {},
   "source": [
    "Call SCR function"
   ]
  },
  {
   "cell_type": "code",
   "execution_count": 42,
   "metadata": {},
   "outputs": [
    {
     "name": "stdout",
     "output_type": "stream",
     "text": [
      "--- Market Risk Validation ---\n",
      "✅ Market SCR: Checks out.\n",
      "✅ Diversification Benefit: Checks out.\n",
      "--- Counterparty Risk Validation ---\n",
      "✅ Counterparty SCR: Checks out.\n",
      "✅ Diversification Benefit: Checks out.\n",
      "--- Non-life Risk Validation ---\n",
      "✅ Non-life SCR: Checks out.\n",
      "✅ Diversification Benefit: Checks out.\n"
     ]
    }
   ],
   "source": [
    "A = 0.5\n",
    "# Source: COMMISSION DELEGATED REGULATION (EU) 2015/35 of 10 October 2014, Article 164, Page 105 of Journal of the European Union (L 12/1)\n",
    "market_scr = scr_module(\n",
    "    correlation_matrix = [\n",
    "    [1,    A,    A,    A,    0, 0.25],    # Interest rate\n",
    "    [A,    1, 0.75, 0.75,    0, 0.25],    # Equity\n",
    "    [A, 0.75,    1,  0.5,    0, 0.25],    # Property\n",
    "    [A, 0.75,  0.5,    1,    0, 0.25],    # Spread\n",
    "    [0,    0,    0,    0,    1,    0],     # Concentration\n",
    "    [0.25, 0.25, 0.25, 0.25, 0,    1]     # Currency\n",
    "], risk_type = 'Market', labels = ['Interest rate', 'Equity', 'Property', 'Spread', 'Concentration', 'Currency'])\n",
    "\n",
    "counterparty_scr = scr_module(\n",
    "    correlation_matrix = [\n",
    "    [1, 0.75],  # Type 1\n",
    "    [0.75, 1]  # Type 2\n",
    "], risk_type = 'Counterparty', labels = ['Type 1', 'Type 2'])\n",
    "\n",
    "nonlife_scr = scr_module(\n",
    "    correlation_matrix = [\n",
    "    [1.00, 0.25, 0.00],  # Premium/Reserve\n",
    "    [0.25, 1.00, 0.00],  # Catastrophe\n",
    "    [0.00, 0.00, 1.00]   # Lapse\n",
    "], risk_type = 'Non-life', labels = ['Premium  & reserve risk', 'Cat risk', 'Lapse risk'])"
   ]
  },
  {
   "cell_type": "markdown",
   "metadata": {},
   "source": [
    "BSCR"
   ]
  },
  {
   "cell_type": "code",
   "execution_count": 52,
   "metadata": {},
   "outputs": [
    {
     "name": "stdout",
     "output_type": "stream",
     "text": [
      "✅ BSCR: Checks out.\n",
      "✅ BSCR Diversification: Checks out.\n"
     ]
    }
   ],
   "source": [
    "labels = ['market_scr', 'counterparty_scr', 'nonlife_scr'] # set order for risks; the correlation matrix is built with this order in mind\n",
    "\n",
    "correlation_matrix_bscr = np.array([\n",
    "    [1.00, 0.25, 0.25],\n",
    "    [0.25, 1.00, 0.50],\n",
    "    [0.25, 0.50, 1.00]\n",
    "])\n",
    "\n",
    "scr_values = {\n",
    "    'market_scr': market_scr,\n",
    "    'counterparty_scr': counterparty_scr,\n",
    "    'nonlife_scr': nonlife_scr\n",
    "}\n",
    "\n",
    "bscr_vector = np.array([scr_values[label] for label in labels]) # build bscr_vector in order required to match correlation matrix\n",
    "\n",
    "# BSCR = SQRT(Σi,j Corr(i,j) * SCRi * SCRj) can be expressed in matrix notation as: BSCR = SQRT(bscr_vector^T * Correlation_Matrix * bscr_vector) where ^T denotes the transpose of the vector.\n",
    "variance = bscr_vector.T @ correlation_matrix_bscr @ bscr_vector\n",
    "calc_bscr = np.sqrt(variance) # brings back to original currency unit\n",
    "calc_diversification = calc_bscr - sum(bscr_vector)\n",
    "\n",
    "bscr_provided = scr_summary.loc[scr_summary['SCR'] == 'Basic SCR', 'Final - As at 30th June 2025'].item()\n",
    "diversification_provided = scr_summary.loc[scr_summary['SCR'] == 'Diversification', 'Final - As at 30th June 2025'].item()\n",
    "\n",
    "run_check(name = 'BSCR', calculated_value = calc_bscr, provided_value = bscr_provided)\n",
    "run_check(name = 'BSCR Diversification', calculated_value = calc_diversification, provided_value = diversification_provided)"
   ]
  }
 ],
 "metadata": {
  "kernelspec": {
   "display_name": "virtual_environment",
   "language": "python",
   "name": "python3"
  },
  "language_info": {
   "codemirror_mode": {
    "name": "ipython",
    "version": 3
   },
   "file_extension": ".py",
   "mimetype": "text/x-python",
   "name": "python",
   "nbconvert_exporter": "python",
   "pygments_lexer": "ipython3",
   "version": "3.11.5"
  }
 },
 "nbformat": 4,
 "nbformat_minor": 2
}
