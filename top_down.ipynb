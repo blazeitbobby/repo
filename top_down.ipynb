{
 "cells": [
  {
   "cell_type": "code",
   "execution_count": 1,
   "metadata": {},
   "outputs": [],
   "source": [
    "from clean import clean_mi_pl_bs, clean_mi_deferrals, clean_gross_tp_walk, clean_unearned_premium_unexpired_risk, clean_s2_summary_sheet, clean_version_control_solvency_balance_sheet, clean_version_control_scr_review, clean_version_control_s2_gaap, clean_version_control_s2_cap_prov_summary\n",
    "import pandas as pd\n",
    "import math\n",
    "import numpy as np"
   ]
  },
  {
   "cell_type": "code",
   "execution_count": 2,
   "metadata": {},
   "outputs": [],
   "source": [
    "%load_ext autoreload\n",
    "%autoreload 2"
   ]
  },
  {
   "cell_type": "code",
   "execution_count": 31,
   "metadata": {},
   "outputs": [],
   "source": [
    "# pd.set_option('display.max_rows', None)\n",
    "# pd.set_option('display.width', 1000)\n",
    "# pd.set_option('display.max_colwidth', None)"
   ]
  },
  {
   "cell_type": "code",
   "execution_count": 3,
   "metadata": {},
   "outputs": [
    {
     "name": "stderr",
     "output_type": "stream",
     "text": [
      "c:\\Users\\georg\\Desktop\\mul_doc\\repo\\clean.py:17: FutureWarning: Downcasting object dtype arrays on .fillna, .ffill, .bfill is deprecated and will change in a future version. Call result.infer_objects(copy=False) instead. To opt-in to the future behavior, set `pd.set_option('future.no_silent_downcasting', True)`\n",
      "  top_header = top_header_raw.ffill().tolist()\n"
     ]
    }
   ],
   "source": [
    "all_s2_tables = clean_s2_summary_sheet(file_path = 'documents\\\\2506 MICL_S2 Gross TP walk.xlsx', sheet_name='S2 Balance Sheet Summary')\n",
    "scr_summary = all_s2_tables['scr']\n",
    "mi_bs = clean_mi_pl_bs(file_path = 'documents\\\\Jun25 MICL MI Pack v3.1 Isi pack exc PC.xlsx', sheet_name='BS')\n",
    "solvency_balance_sheet_liabilities = clean_version_control_solvency_balance_sheet(file_path = 'documents\\\\2506 MICL Version Control.xlsx', skip_rows = 55, n_rows = 34, element = 'Liabilities')\n",
    "# op_risk_calc = all_s2_tables['op_risk']"
   ]
  },
  {
   "cell_type": "code",
   "execution_count": 4,
   "metadata": {},
   "outputs": [
    {
     "data": {
      "text/html": [
       "<div>\n",
       "<style scoped>\n",
       "    .dataframe tbody tr th:only-of-type {\n",
       "        vertical-align: middle;\n",
       "    }\n",
       "\n",
       "    .dataframe tbody tr th {\n",
       "        vertical-align: top;\n",
       "    }\n",
       "\n",
       "    .dataframe thead th {\n",
       "        text-align: right;\n",
       "    }\n",
       "</style>\n",
       "<table border=\"1\" class=\"dataframe\">\n",
       "  <thead>\n",
       "    <tr style=\"text-align: right;\">\n",
       "      <th></th>\n",
       "      <th>Code</th>\n",
       "      <th>Description</th>\n",
       "      <th>2025-06-01 00:00:00 Actual</th>\n",
       "      <th>2025-06-01 00:00:00 Budget</th>\n",
       "      <th>2025-06-01 00:00:00 Variance</th>\n",
       "      <th>Prior_Year</th>\n",
       "      <th>V to PY</th>\n",
       "      <th></th>\n",
       "      <th>Comments</th>\n",
       "    </tr>\n",
       "  </thead>\n",
       "  <tbody>\n",
       "    <tr>\n",
       "      <th>0</th>\n",
       "      <td>NaN</td>\n",
       "      <td>Assets</td>\n",
       "      <td>NaN</td>\n",
       "      <td>NaN</td>\n",
       "      <td>NaN</td>\n",
       "      <td>NaN</td>\n",
       "      <td>NaN</td>\n",
       "      <td>NaN</td>\n",
       "      <td>NaN</td>\n",
       "    </tr>\n",
       "    <tr>\n",
       "      <th>1</th>\n",
       "      <td>Heading</td>\n",
       "      <td>Investments</td>\n",
       "      <td>NaN</td>\n",
       "      <td>NaN</td>\n",
       "      <td>NaN</td>\n",
       "      <td>NaN</td>\n",
       "      <td>NaN</td>\n",
       "      <td>NaN</td>\n",
       "      <td>NaN</td>\n",
       "    </tr>\n",
       "    <tr>\n",
       "      <th>2</th>\n",
       "      <td>Heading</td>\n",
       "      <td>Debt securities and other financial investments</td>\n",
       "      <td>23624193.53</td>\n",
       "      <td>2.487288e+07</td>\n",
       "      <td>-1.248683e+06</td>\n",
       "      <td>27334207.66</td>\n",
       "      <td>-3710014.13</td>\n",
       "      <td>NaN</td>\n",
       "      <td>NaN</td>\n",
       "    </tr>\n",
       "    <tr>\n",
       "      <th>3</th>\n",
       "      <td>3602</td>\n",
       "      <td>Pluto Investment</td>\n",
       "      <td>672921.57</td>\n",
       "      <td>1.104404e+06</td>\n",
       "      <td>-4.314824e+05</td>\n",
       "      <td>3145025.52</td>\n",
       "      <td>-2472103.95</td>\n",
       "      <td>Investments</td>\n",
       "      <td>Investment in run-off and expected to fully di...</td>\n",
       "    </tr>\n",
       "    <tr>\n",
       "      <th>4</th>\n",
       "      <td>3603</td>\n",
       "      <td>Avantus Loan Notes</td>\n",
       "      <td>3112992.16</td>\n",
       "      <td>3.180783e+06</td>\n",
       "      <td>-6.779129e+04</td>\n",
       "      <td>3087007.84</td>\n",
       "      <td>25984.32</td>\n",
       "      <td>Investments</td>\n",
       "      <td>Increased due to valuation gains</td>\n",
       "    </tr>\n",
       "  </tbody>\n",
       "</table>\n",
       "</div>"
      ],
      "text/plain": [
       "      Code                                      Description  \\\n",
       "0      NaN                                           Assets   \n",
       "1  Heading                                      Investments   \n",
       "2  Heading  Debt securities and other financial investments   \n",
       "3     3602                                 Pluto Investment   \n",
       "4     3603                               Avantus Loan Notes   \n",
       "\n",
       "   2025-06-01 00:00:00 Actual  2025-06-01 00:00:00 Budget  \\\n",
       "0                         NaN                         NaN   \n",
       "1                         NaN                         NaN   \n",
       "2                 23624193.53                2.487288e+07   \n",
       "3                   672921.57                1.104404e+06   \n",
       "4                  3112992.16                3.180783e+06   \n",
       "\n",
       "   2025-06-01 00:00:00 Variance   Prior_Year     V to PY               \\\n",
       "0                           NaN          NaN         NaN          NaN   \n",
       "1                           NaN          NaN         NaN          NaN   \n",
       "2                 -1.248683e+06  27334207.66 -3710014.13          NaN   \n",
       "3                 -4.314824e+05   3145025.52 -2472103.95  Investments   \n",
       "4                 -6.779129e+04   3087007.84    25984.32  Investments   \n",
       "\n",
       "                                            Comments  \n",
       "0                                                NaN  \n",
       "1                                                NaN  \n",
       "2                                                NaN  \n",
       "3  Investment in run-off and expected to fully di...  \n",
       "4                   Increased due to valuation gains  "
      ]
     },
     "execution_count": 4,
     "metadata": {},
     "output_type": "execute_result"
    }
   ],
   "source": [
    "mi_bs.head()"
   ]
  },
  {
   "cell_type": "markdown",
   "metadata": {},
   "source": [
    "Interest Rate Risk\n",
    "\n",
    "Consider assets stressed within the spread risk sub-module (i.e. bonds and loans) and the technical provisions.\n",
    "The net technical provisions are calculated based on the net expected claims settlements given the claims settlement patterns detailed in Section 4.11."
   ]
  },
  {
   "cell_type": "code",
   "execution_count": 6,
   "metadata": {},
   "outputs": [
    {
     "name": "stdout",
     "output_type": "stream",
     "text": [
      "683872.1253521964\n"
     ]
    }
   ],
   "source": [
    "assets = # df_spread_risk\n",
    "\n",
    "liabilites = # \n",
    "\n",
    "\n",
    "ir_risk_provided = scr_summary.loc[scr_summary['Item'] == 'Interest rate', 'Final - As at 30th June 2025'].item()\n",
    "print(net_assets)"
   ]
  },
  {
   "cell_type": "markdown",
   "metadata": {},
   "source": [
    "Spread Risk\n",
    "\n",
    "2024 SII Assumptions Doc was used to construct the list. Not all were found in MI Pack Balance sheet. For those found, there is no information on rating, duration or collateralisation status. For the moment, those are copied from the 2024 SII Assumptions Doc.\n",
    "\n",
    "For each asset, the SCR is `Market Value × Duration × Risk Factor (based on rating)`. Unrated assets with a duration under 5 years use a 3% risk factor.\n",
    "\n",
    "What risk factor is associated with each rating?"
   ]
  },
  {
   "cell_type": "code",
   "execution_count": 7,
   "metadata": {},
   "outputs": [
    {
     "name": "stdout",
     "output_type": "stream",
     "text": [
      "1375041.729114504\n"
     ]
    }
   ],
   "source": [
    "spread_risk_provided = scr_summary.loc[scr_summary['Item'] == 'Spread', 'Final - As at 30th June 2025'].item()\n",
    "\n",
    "assets_spread_risk = [  # List from SII Assumptions Doc, but names didn't match up fully\n",
    "    'CCA Longevity III DAC (USD)',  # 'CCA longevity' in SII Assumptions Doc\n",
    "    'JP Morgan Fund',  # Not in MI pack BS\n",
    "    'Horizon',  # Not in MI pack BS\n",
    "    'Pluto Investment',  # 'Pluto' in SII Assumptions Doc\n",
    "    'Avantus Loan Notes',  # 'Avantus' in SII Assumptions Doc\n",
    "    'Dayim Loan (USD Purchase)',  # 'Dayim' in SII Assumptions Doc\n",
    "    'Colchis RBLF',  # 'Colchis' in SII Assumptions Doc\n",
    "    'Hiyacar',\n",
    "    'HyperJar Investment',  # 'HyperJar' in SII Assumptions Doc\n",
    "    'Ibuyer',  # Not in MI pack BS\n",
    "    'Perceptive',\n",
    "    'WIL Loan',  # 'Wolvercote loan' in SII Assumptions Doc\n",
    "    'Deep Discounted bonds'  # Not in MI pack BS; 'Vanderbilt Bonds'?\n",
    "]\n"
   ]
  },
  {
   "cell_type": "code",
   "execution_count": null,
   "metadata": {},
   "outputs": [
    {
     "name": "stdout",
     "output_type": "stream",
     "text": [
      "Spread Risk SCR Calculation Results:\n",
      "            Spread assets Rating  Aver.Duration Collateralised     Value        SCR\n",
      "0           CCA longevity     NR           1.75             No   1440000   75600.00\n",
      "1          JP Morgan Fund    AAA           1.00             No  26813000       0.00\n",
      "2                 Horizon     NR           1.00             No         0       0.00\n",
      "3                   Pluto     NR           1.00            Yes   1938000   29070.00\n",
      "4                 Avantus     NR           1.75             No   3087000  162067.50\n",
      "5                   Dayim     NR           1.75             No   5372000  282030.00\n",
      "6                 Colchis     NR           1.00             No         0       0.00\n",
      "7                 Hiyacar     NR           1.00             No    200000    6000.00\n",
      "8                HyperJar     NR           1.00             No    972000   29160.00\n",
      "9                  Ibuyer     NR           1.00             No   2599000   77970.00\n",
      "10             Perceptive     NR           1.00             No    743000   22290.00\n",
      "11        Wolvercote loan     NR           2.81             No   5336000  449824.80\n",
      "12  Deep Discounted bonds     NR           2.67            Yes   9643000  386202.15\n",
      "\n",
      "Total Spread Risk SCR: £1,520,214.45\n"
     ]
    }
   ],
   "source": [
    "# Data extracted from SII Assumptions Doc\n",
    "data_spread = {\n",
    "    \"Spread assets\": [\n",
    "        \"CCA longevity\", \"JP Morgan Fund\", \"Horizon\", \"Pluto\", \"Avantus\",\n",
    "        \"Dayim\", \"Colchis\", \"Hiyacar\", \"HyperJar\", \"Ibuyer\", \"Perceptive\",\n",
    "        \"Wolvercote loan\", \"Deep Discounted bonds\"\n",
    "    ],\n",
    "    \"£'000s\": [\n",
    "        1440, 26813, 0, 1938, 3087, 5372, 0, 200, 972, 2599, 743, 5336, 9643\n",
    "    ],\n",
    "    \"Rating\": [\n",
    "        \"NR\", \"AAA\", \"NR\", \"NR\", \"NR\", \"NR\", \"NR\", \"NR\", \"NR\", \"NR\", \"NR\", \"NR\", \"NR\"\n",
    "    ],\n",
    "    \"Aver.Duration\": [\n",
    "        1.75, 1.00, 1.00, 1.00, 1.75, 1.75, 1.00, 1.00, 1.00, 1.00, 1.00, 2.81, 2.67\n",
    "    ],\n",
    "    \"Collateralised\": [\n",
    "        \"No\", \"No\", \"No\", \"Yes\", \"No\", \"No\", \"No\", \"No\", \"No\", \"No\", \"No\", \"No\", \"Yes\"\n",
    "    ]\n",
    "}\n",
    "\n",
    "# Create a pandas DataFrame from the data\n",
    "df_spread_risk = pd.DataFrame(data_spread)\n",
    "\n",
    "df_spread_risk['Value'] = df_spread_risk[\"£'000s\"] * 1000\n",
    "df_spread_risk = df_spread_risk.drop(columns=[\"£'000s\"])\n",
    "\n",
    "def calculate_scr(row):\n",
    "    \"\"\"\n",
    "    Calculates the Spread Risk SCR for a single asset based on the provided rules.\n",
    "    \"\"\"\n",
    "    # 8.3.5: Risk factor for unrated assets with duration < 5 years is 3%.\n",
    "    # For this specific dataset, all 'NR' rated assets have a duration < 5.\n",
    "    # We don't know what risk factor to give 'AAA' - assumet it is 0\n",
    "    # risk factor was provided for it. The rule for 'NR' is the most applicable default.\n",
    "    if row['Rating'] == 'NR' and row['Aver.Duration'] < 5:\n",
    "        risk_factor = 0.03\n",
    "    if row['Rating'] == 'AAA' and row['Aver.Duration'] < 5:\n",
    "        risk_factor =0\n",
    "\n",
    "    # 8.3.4: If the asset is collateralised, the risk factor is halved.\n",
    "    if row['Collateralised'] == 'Yes':\n",
    "        risk_factor /= 2\n",
    "\n",
    "    # 8.3.3: SCR = Market Value × Duration × Risk Factor\n",
    "    # Market value is in the 'Value' column.\n",
    "    scr = row['Value'] * row['Aver.Duration'] * risk_factor\n",
    "    \n",
    "    return scr\n",
    "\n",
    "# Apply the function to each row (axis=1) to calculate the SCR\n",
    "df_spread_risk['SCR'] = df_spread_risk.apply(calculate_scr, axis=1)\n",
    "\n",
    "# Display the resulting DataFrame\n",
    "print(\"Spread Risk SCR Calculation Results:\")\n",
    "print(df_spread_risk.to_string())\n",
    "\n",
    "# Calculate and display the total SCR\n",
    "total_scr = df_spread_risk['SCR'].sum()\n",
    "print(f\"\\nTotal Spread Risk SCR: £{total_scr:,.2f}\")"
   ]
  },
  {
   "cell_type": "code",
   "execution_count": 64,
   "metadata": {},
   "outputs": [
    {
     "data": {
      "text/plain": [
       "np.int64(58143000)"
      ]
     },
     "execution_count": 64,
     "metadata": {},
     "output_type": "execute_result"
    }
   ],
   "source": [
    "df_spread_risk['Value'].sum()"
   ]
  },
  {
   "cell_type": "markdown",
   "metadata": {},
   "source": [
    "Equity Risk\n",
    "- no information in SII Assumptions about how symmetric adjustment is calulated\n",
    "\n",
    "The final capital charge for each equity is calculated using these adjusted shocks, and the results are then combined using a correlation formula to determine the overall equity risk SCR: `SCR_equity = SQRT( (SCR_type1)² + (SCR_type2)² + 2 * 0.75 * SCR_type1 * SCR_type2)`, where:\n",
    "- SCR_type1: The total capital charge for all Type 1 equities.\n",
    "- SCR_type2: The total capital charge for all Type 2 equities."
   ]
  },
  {
   "cell_type": "code",
   "execution_count": 37,
   "metadata": {},
   "outputs": [
    {
     "name": "stdout",
     "output_type": "stream",
     "text": [
      "                      Equity Rating Strategic  Equity Type  Value (£'000s) Base shock (Regul.) Symmetric Adj. (Dec-24) Capital Charge (%)  Capital Charge (£'000s)\n",
      "0          Beverley Funerals     NR       Yes            1         4340.81                 22%                     0.0             22.00%                      955\n",
      "1               BVC - Fund 1     NR        No            2          900.18                 49%                   3.06%             52.06%                      469\n",
      "2               BVC - Fund 1     NR        No            2          754.22                 49%                   3.06%             52.06%                      393\n",
      "3               BVC - Fund 1     NR        No            2          353.89                 49%                   3.06%             52.06%                      184\n",
      "4               BVC - Fund 1     NR        No            1          280.92                 39%                   3.06%             42.00%                      118\n",
      "5               BVC - Fund 1     NR        No            2          237.24                 49%                   3.06%             52.06%                      123\n",
      "6               BVC - Fund 1     NR        No            2          193.10                 49%                   3.06%             52.06%                      101\n",
      "7               BVC - Fund 1     NR        No            1           14.13                 39%                   3.06%             42.00%                        6\n",
      "8               BVC - Fund 1     NR        No            2          365.26                 49%                   3.06%             52.06%                      190\n",
      "9               BVC - Fund 1     NR        No            2          365.26                 49%                   3.06%             52.06%                      190\n",
      "10              BVC - Fund 1     NR        No            2          365.26                 49%                   3.06%             52.06%                      190\n",
      "11  BVC - Entrepreneurs Fund     NR        No            2          204.72                 49%                   3.06%             52.06%                      107\n",
      "12  BVC - Entrepreneurs Fund     NR        No            1            2.06                 39%                   3.06%             42.00%                        1\n",
      "13               BVC - SPV 1     NR        No            2          625.35                 49%                   3.06%             52.06%                      326\n",
      "14               BVC - SPV 1     NR        No            2          631.87                 49%                   3.06%             52.06%                      329\n",
      "15               BVC - SPV 1     NR        No            2           84.49                 49%                   3.06%             52.06%                       44\n",
      "16               BVC - SPV 1     NR        No            2         1164.98                 49%                   3.06%             52.06%                      606\n"
     ]
    }
   ],
   "source": [
    "# Data from the image, using np.nan for merged/empty cells\n",
    "data_equity = [\n",
    "    ['Beverley Funerals', 'NR', 'Yes', 1, 4340.81, '22%', 0.000, '22.00%', 955],\n",
    "    ['BVC - Fund 1', 'NR', 'No', 2, 900.18, '49%', '3.06%', '52.06%', 469],\n",
    "    [np.nan, 'NR', 'No', 2, 754.22, '49%', '3.06%', '52.06%', 393],\n",
    "    [np.nan, 'NR', 'No', 2, 353.89, '49%', '3.06%', '52.06%', 184],\n",
    "    [np.nan, 'NR', 'No', 1, 280.92, '39%', '3.06%', '42.00%', 118],\n",
    "    [np.nan, 'NR', 'No', 2, 237.24, '49%', '3.06%', '52.06%', 123],\n",
    "    [np.nan, 'NR', 'No', 2, 193.10, '49%', '3.06%', '52.06%', 101],\n",
    "    [np.nan, 'NR', 'No', 1, 14.13, '39%', '3.06%', '42.00%', 6],\n",
    "    [np.nan, 'NR', 'No', 2, 365.26, '49%', '3.06%', '52.06%', 190],\n",
    "    [np.nan, 'NR', 'No', 2, 365.26, '49%', '3.06%', '52.06%', 190],\n",
    "    [np.nan, 'NR', 'No', 2, 365.26, '49%', '3.06%', '52.06%', 190],\n",
    "    ['BVC - Entrepreneurs Fund', 'NR', 'No', 2, 204.72, '49%', '3.06%', '52.06%', 107],\n",
    "    [np.nan, 'NR', 'No', 1, 2.06, '39%', '3.06%', '42.00%', 1],\n",
    "    ['BVC - SPV 1', 'NR', 'No', 2, 625.35, '49%', '3.06%', '52.06%', 326],\n",
    "    [np.nan, 'NR', 'No', 2, 631.87, '49%', '3.06%', '52.06%', 329],\n",
    "    [np.nan, 'NR', 'No', 2, 84.49, '49%', '3.06%', '52.06%', 44],\n",
    "    [np.nan, 'NR', 'No', 2, 1164.98, '49%', '3.06%', '52.06%', 606]\n",
    "]\n",
    "\n",
    "# Column headers from the image\n",
    "columns_equity = [\n",
    "    'Equity', 'Rating', 'Strategic', 'Equity Type', \"Value (£'000s)\",\n",
    "    'Base shock (Regul.)', 'Symmetric Adj. (Dec-24)', 'Capital Charge (%)',\n",
    "    \"Capital Charge (£'000s)\"\n",
    "]\n",
    "\n",
    "# Create the initial DataFrame\n",
    "df_equity = pd.DataFrame(data_equity, columns=columns_equity)\n",
    "\n",
    "df_equity = df_equity.ffill()\n",
    "\n",
    "# Display the final DataFrame\n",
    "print(df_equity.to_string())"
   ]
  },
  {
   "cell_type": "code",
   "execution_count": 39,
   "metadata": {},
   "outputs": [],
   "source": [
    "df_check_equity = df_equity[['Equity', 'Rating', 'Strategic', 'Equity Type', \"Value (£'000s)\"]].copy()\n",
    "df_check_equity['Value'] = df_check_equity[\"Value (£'000s)\"] * 1000\n",
    "df_check_equity = df_check_equity.drop(columns=[\"Value (£'000s)\"])"
   ]
  },
  {
   "cell_type": "code",
   "execution_count": null,
   "metadata": {},
   "outputs": [
    {
     "name": "stdout",
     "output_type": "stream",
     "text": [
      "4123866.9963296494\n"
     ]
    }
   ],
   "source": [
    "def calculate_capital_charge(row):\n",
    "    if row['Strategic'] == 'Yes':\n",
    "        shock = 0.22\n",
    "\n",
    "    else:\n",
    "\n",
    "        if row['Equity Type'] == 1:\n",
    "            shock = 0.39\n",
    "\n",
    "        else:\n",
    "            shock = 0.49\n",
    "\n",
    "        # Symmetric adjustment\n",
    "        shock += 0.0306\n",
    "\n",
    "    capital_charge = row['Value'] * shock\n",
    "\n",
    "    return capital_charge\n",
    "\n",
    "# Apply the function to each row (axis=1) to calculate the SCR\n",
    "df_check_equity['Capital Charge'] = df_check_equity.apply(calculate_capital_charge, axis=1)\n",
    "\n",
    "scr_equity_1 = df_check_equity.loc[df_check_equity['Equity Type'] == 1, 'Capital Charge'].sum()\n",
    "scr_equity_2 = df_check_equity.loc[df_check_equity['Equity Type'] == 2, 'Capital Charge'].sum()\n",
    "\n",
    "equity_type_scr = np.array([scr_equity_1, scr_equity_2])\n",
    "correlation_matrix_equity_type = np.array([[1,    0.75],\n",
    "              [0.75, 1   ]])\n",
    "\n",
    "variance = equity_type_scr.T @ correlation_matrix_equity_type @ equity_type_scr\n",
    "scr_equity = np.sqrt(variance)\n",
    "\n",
    "print(scr_equity)"
   ]
  },
  {
   "cell_type": "markdown",
   "metadata": {},
   "source": [
    "Currency Risk"
   ]
  },
  {
   "cell_type": "code",
   "execution_count": 49,
   "metadata": {},
   "outputs": [
    {
     "name": "stdout",
     "output_type": "stream",
     "text": [
      "13895084.22\n",
      "12558987.14\n",
      "-334024.27 40373.94749999978\n"
     ]
    }
   ],
   "source": [
    "usd_bs = ['Dayim Loan (USD Purchase)', 'WSL (8VC) Shares (USD purchase)', 'CCA Longevity III DAC (USD)', 'Perceptive', 'RBS USD Account', 'JSS Forwards']\n",
    "usd_list = []\n",
    "for usd in usd_bs:\n",
    "    usd_list.append(mi_bs.loc[mi_bs['Description']== usd, '2025-06-01 00:00:00 Actual'].item())\n",
    "\n",
    "usd_list[-1] *= -1\n",
    "\n",
    "currency_net_assets = sum(usd_list)\n",
    "\n",
    "usd_forward = solvency_balance_sheet_liabilities.loc[solvency_balance_sheet_liabilities['']== 'Derivatives', 'Col N BS SII BS 2025-06-01 00:00:00'].item()\n",
    "\n",
    "currency_risk_exposure = currency_net_assets - usd_forward\n",
    "\n",
    "currency_scr = 0.25 * currency_risk_exposure\n",
    "\n",
    "currency_scr_provided = scr_summary.loc[scr_summary['Item'] == 'Currency', 'Final - As at 30th June 2025'].item()\n",
    "print(usd_forward)\n",
    "print(currency_net_assets)\n",
    "print(currency_scr, currency_scr_provided)"
   ]
  },
  {
   "cell_type": "markdown",
   "metadata": {},
   "source": [
    "Concentration Risk\n",
    "\n",
    "The same inputs as spread risk (mortgages, bonds & loans) and equity (equities) risk"
   ]
  },
  {
   "cell_type": "code",
   "execution_count": 58,
   "metadata": {},
   "outputs": [],
   "source": [
    "df_spread_risk_filtered = df_spread_risk[['Spread assets', 'Rating', 'Value']].copy()\n",
    "df_check_equity_filtered = df_check_equity[['Equity', 'Rating', 'Value']].copy()\n",
    "\n",
    "df_spread_risk_filtered.rename(columns={'Spread assets': 'Asset'}, inplace=True)\n",
    "df_check_equity_filtered.rename(columns={'Equity': 'Asset'}, inplace=True)\n",
    "\n",
    "df_assets = pd.concat([df_spread_risk_filtered, df_check_equity_filtered], ignore_index=True)"
   ]
  },
  {
   "cell_type": "code",
   "execution_count": 63,
   "metadata": {},
   "outputs": [
    {
     "name": "stdout",
     "output_type": "stream",
     "text": [
      "9440386.401785271\n"
     ]
    },
    {
     "data": {
      "text/html": [
       "<div>\n",
       "<style scoped>\n",
       "    .dataframe tbody tr th:only-of-type {\n",
       "        vertical-align: middle;\n",
       "    }\n",
       "\n",
       "    .dataframe tbody tr th {\n",
       "        vertical-align: top;\n",
       "    }\n",
       "\n",
       "    .dataframe thead th {\n",
       "        text-align: right;\n",
       "    }\n",
       "</style>\n",
       "<table border=\"1\" class=\"dataframe\">\n",
       "  <thead>\n",
       "    <tr style=\"text-align: right;\">\n",
       "      <th></th>\n",
       "      <th>Asset</th>\n",
       "      <th>Rating</th>\n",
       "      <th>Value</th>\n",
       "      <th>Concentration Value</th>\n",
       "      <th>CV**2</th>\n",
       "    </tr>\n",
       "  </thead>\n",
       "  <tbody>\n",
       "    <tr>\n",
       "      <th>0</th>\n",
       "      <td>CCA longevity</td>\n",
       "      <td>NR</td>\n",
       "      <td>1440000.0</td>\n",
       "      <td>295357.197</td>\n",
       "      <td>8.723587e+10</td>\n",
       "    </tr>\n",
       "    <tr>\n",
       "      <th>1</th>\n",
       "      <td>JP Morgan Fund</td>\n",
       "      <td>AAA</td>\n",
       "      <td>26813000.0</td>\n",
       "      <td>4456633.940</td>\n",
       "      <td>1.986159e+13</td>\n",
       "    </tr>\n",
       "    <tr>\n",
       "      <th>2</th>\n",
       "      <td>Horizon</td>\n",
       "      <td>NR</td>\n",
       "      <td>0.0</td>\n",
       "      <td>0.000</td>\n",
       "      <td>0.000000e+00</td>\n",
       "    </tr>\n",
       "    <tr>\n",
       "      <th>3</th>\n",
       "      <td>Pluto</td>\n",
       "      <td>NR</td>\n",
       "      <td>1938000.0</td>\n",
       "      <td>658897.197</td>\n",
       "      <td>4.341455e+11</td>\n",
       "    </tr>\n",
       "    <tr>\n",
       "      <th>4</th>\n",
       "      <td>Avantus</td>\n",
       "      <td>NR</td>\n",
       "      <td>3087000.0</td>\n",
       "      <td>1497667.197</td>\n",
       "      <td>2.243007e+12</td>\n",
       "    </tr>\n",
       "    <tr>\n",
       "      <th>5</th>\n",
       "      <td>Dayim</td>\n",
       "      <td>NR</td>\n",
       "      <td>5372000.0</td>\n",
       "      <td>3165717.197</td>\n",
       "      <td>1.002177e+13</td>\n",
       "    </tr>\n",
       "    <tr>\n",
       "      <th>6</th>\n",
       "      <td>Colchis</td>\n",
       "      <td>NR</td>\n",
       "      <td>0.0</td>\n",
       "      <td>0.000</td>\n",
       "      <td>0.000000e+00</td>\n",
       "    </tr>\n",
       "    <tr>\n",
       "      <th>7</th>\n",
       "      <td>Hiyacar</td>\n",
       "      <td>NR</td>\n",
       "      <td>200000.0</td>\n",
       "      <td>0.000</td>\n",
       "      <td>0.000000e+00</td>\n",
       "    </tr>\n",
       "    <tr>\n",
       "      <th>8</th>\n",
       "      <td>HyperJar</td>\n",
       "      <td>NR</td>\n",
       "      <td>972000.0</td>\n",
       "      <td>0.000</td>\n",
       "      <td>0.000000e+00</td>\n",
       "    </tr>\n",
       "    <tr>\n",
       "      <th>9</th>\n",
       "      <td>Ibuyer</td>\n",
       "      <td>NR</td>\n",
       "      <td>2599000.0</td>\n",
       "      <td>1141427.197</td>\n",
       "      <td>1.302856e+12</td>\n",
       "    </tr>\n",
       "    <tr>\n",
       "      <th>10</th>\n",
       "      <td>Perceptive</td>\n",
       "      <td>NR</td>\n",
       "      <td>743000.0</td>\n",
       "      <td>0.000</td>\n",
       "      <td>0.000000e+00</td>\n",
       "    </tr>\n",
       "    <tr>\n",
       "      <th>11</th>\n",
       "      <td>Wolvercote loan</td>\n",
       "      <td>NR</td>\n",
       "      <td>5336000.0</td>\n",
       "      <td>3139437.197</td>\n",
       "      <td>9.856066e+12</td>\n",
       "    </tr>\n",
       "    <tr>\n",
       "      <th>12</th>\n",
       "      <td>Deep Discounted bonds</td>\n",
       "      <td>NR</td>\n",
       "      <td>9643000.0</td>\n",
       "      <td>6283547.197</td>\n",
       "      <td>3.948297e+13</td>\n",
       "    </tr>\n",
       "    <tr>\n",
       "      <th>13</th>\n",
       "      <td>Beverley Funerals</td>\n",
       "      <td>NR</td>\n",
       "      <td>4340810.0</td>\n",
       "      <td>2412948.497</td>\n",
       "      <td>5.822320e+12</td>\n",
       "    </tr>\n",
       "    <tr>\n",
       "      <th>14</th>\n",
       "      <td>BVC - Fund 1</td>\n",
       "      <td>NR</td>\n",
       "      <td>900180.0</td>\n",
       "      <td>0.000</td>\n",
       "      <td>0.000000e+00</td>\n",
       "    </tr>\n",
       "    <tr>\n",
       "      <th>15</th>\n",
       "      <td>BVC - Fund 1</td>\n",
       "      <td>NR</td>\n",
       "      <td>754220.0</td>\n",
       "      <td>0.000</td>\n",
       "      <td>0.000000e+00</td>\n",
       "    </tr>\n",
       "    <tr>\n",
       "      <th>16</th>\n",
       "      <td>BVC - Fund 1</td>\n",
       "      <td>NR</td>\n",
       "      <td>353890.0</td>\n",
       "      <td>0.000</td>\n",
       "      <td>0.000000e+00</td>\n",
       "    </tr>\n",
       "    <tr>\n",
       "      <th>17</th>\n",
       "      <td>BVC - Fund 1</td>\n",
       "      <td>NR</td>\n",
       "      <td>280920.0</td>\n",
       "      <td>0.000</td>\n",
       "      <td>0.000000e+00</td>\n",
       "    </tr>\n",
       "    <tr>\n",
       "      <th>18</th>\n",
       "      <td>BVC - Fund 1</td>\n",
       "      <td>NR</td>\n",
       "      <td>237240.0</td>\n",
       "      <td>0.000</td>\n",
       "      <td>0.000000e+00</td>\n",
       "    </tr>\n",
       "    <tr>\n",
       "      <th>19</th>\n",
       "      <td>BVC - Fund 1</td>\n",
       "      <td>NR</td>\n",
       "      <td>193100.0</td>\n",
       "      <td>0.000</td>\n",
       "      <td>0.000000e+00</td>\n",
       "    </tr>\n",
       "    <tr>\n",
       "      <th>20</th>\n",
       "      <td>BVC - Fund 1</td>\n",
       "      <td>NR</td>\n",
       "      <td>14130.0</td>\n",
       "      <td>0.000</td>\n",
       "      <td>0.000000e+00</td>\n",
       "    </tr>\n",
       "    <tr>\n",
       "      <th>21</th>\n",
       "      <td>BVC - Fund 1</td>\n",
       "      <td>NR</td>\n",
       "      <td>365260.0</td>\n",
       "      <td>0.000</td>\n",
       "      <td>0.000000e+00</td>\n",
       "    </tr>\n",
       "    <tr>\n",
       "      <th>22</th>\n",
       "      <td>BVC - Fund 1</td>\n",
       "      <td>NR</td>\n",
       "      <td>365260.0</td>\n",
       "      <td>0.000</td>\n",
       "      <td>0.000000e+00</td>\n",
       "    </tr>\n",
       "    <tr>\n",
       "      <th>23</th>\n",
       "      <td>BVC - Fund 1</td>\n",
       "      <td>NR</td>\n",
       "      <td>365260.0</td>\n",
       "      <td>0.000</td>\n",
       "      <td>0.000000e+00</td>\n",
       "    </tr>\n",
       "    <tr>\n",
       "      <th>24</th>\n",
       "      <td>BVC - Entrepreneurs Fund</td>\n",
       "      <td>NR</td>\n",
       "      <td>204720.0</td>\n",
       "      <td>0.000</td>\n",
       "      <td>0.000000e+00</td>\n",
       "    </tr>\n",
       "    <tr>\n",
       "      <th>25</th>\n",
       "      <td>BVC - Entrepreneurs Fund</td>\n",
       "      <td>NR</td>\n",
       "      <td>2060.0</td>\n",
       "      <td>0.000</td>\n",
       "      <td>0.000000e+00</td>\n",
       "    </tr>\n",
       "    <tr>\n",
       "      <th>26</th>\n",
       "      <td>BVC - SPV 1</td>\n",
       "      <td>NR</td>\n",
       "      <td>625350.0</td>\n",
       "      <td>0.000</td>\n",
       "      <td>0.000000e+00</td>\n",
       "    </tr>\n",
       "    <tr>\n",
       "      <th>27</th>\n",
       "      <td>BVC - SPV 1</td>\n",
       "      <td>NR</td>\n",
       "      <td>631870.0</td>\n",
       "      <td>0.000</td>\n",
       "      <td>0.000000e+00</td>\n",
       "    </tr>\n",
       "    <tr>\n",
       "      <th>28</th>\n",
       "      <td>BVC - SPV 1</td>\n",
       "      <td>NR</td>\n",
       "      <td>84490.0</td>\n",
       "      <td>0.000</td>\n",
       "      <td>0.000000e+00</td>\n",
       "    </tr>\n",
       "    <tr>\n",
       "      <th>29</th>\n",
       "      <td>BVC - SPV 1</td>\n",
       "      <td>NR</td>\n",
       "      <td>1164980.0</td>\n",
       "      <td>94592.597</td>\n",
       "      <td>8.947759e+09</td>\n",
       "    </tr>\n",
       "  </tbody>\n",
       "</table>\n",
       "</div>"
      ],
      "text/plain": [
       "                       Asset Rating       Value  Concentration Value  \\\n",
       "0              CCA longevity     NR   1440000.0           295357.197   \n",
       "1             JP Morgan Fund    AAA  26813000.0          4456633.940   \n",
       "2                    Horizon     NR         0.0                0.000   \n",
       "3                      Pluto     NR   1938000.0           658897.197   \n",
       "4                    Avantus     NR   3087000.0          1497667.197   \n",
       "5                      Dayim     NR   5372000.0          3165717.197   \n",
       "6                    Colchis     NR         0.0                0.000   \n",
       "7                    Hiyacar     NR    200000.0                0.000   \n",
       "8                   HyperJar     NR    972000.0                0.000   \n",
       "9                     Ibuyer     NR   2599000.0          1141427.197   \n",
       "10                Perceptive     NR    743000.0                0.000   \n",
       "11           Wolvercote loan     NR   5336000.0          3139437.197   \n",
       "12     Deep Discounted bonds     NR   9643000.0          6283547.197   \n",
       "13         Beverley Funerals     NR   4340810.0          2412948.497   \n",
       "14              BVC - Fund 1     NR    900180.0                0.000   \n",
       "15              BVC - Fund 1     NR    754220.0                0.000   \n",
       "16              BVC - Fund 1     NR    353890.0                0.000   \n",
       "17              BVC - Fund 1     NR    280920.0                0.000   \n",
       "18              BVC - Fund 1     NR    237240.0                0.000   \n",
       "19              BVC - Fund 1     NR    193100.0                0.000   \n",
       "20              BVC - Fund 1     NR     14130.0                0.000   \n",
       "21              BVC - Fund 1     NR    365260.0                0.000   \n",
       "22              BVC - Fund 1     NR    365260.0                0.000   \n",
       "23              BVC - Fund 1     NR    365260.0                0.000   \n",
       "24  BVC - Entrepreneurs Fund     NR    204720.0                0.000   \n",
       "25  BVC - Entrepreneurs Fund     NR      2060.0                0.000   \n",
       "26               BVC - SPV 1     NR    625350.0                0.000   \n",
       "27               BVC - SPV 1     NR    631870.0                0.000   \n",
       "28               BVC - SPV 1     NR     84490.0                0.000   \n",
       "29               BVC - SPV 1     NR   1164980.0            94592.597   \n",
       "\n",
       "           CV**2  \n",
       "0   8.723587e+10  \n",
       "1   1.986159e+13  \n",
       "2   0.000000e+00  \n",
       "3   4.341455e+11  \n",
       "4   2.243007e+12  \n",
       "5   1.002177e+13  \n",
       "6   0.000000e+00  \n",
       "7   0.000000e+00  \n",
       "8   0.000000e+00  \n",
       "9   1.302856e+12  \n",
       "10  0.000000e+00  \n",
       "11  9.856066e+12  \n",
       "12  3.948297e+13  \n",
       "13  5.822320e+12  \n",
       "14  0.000000e+00  \n",
       "15  0.000000e+00  \n",
       "16  0.000000e+00  \n",
       "17  0.000000e+00  \n",
       "18  0.000000e+00  \n",
       "19  0.000000e+00  \n",
       "20  0.000000e+00  \n",
       "21  0.000000e+00  \n",
       "22  0.000000e+00  \n",
       "23  0.000000e+00  \n",
       "24  0.000000e+00  \n",
       "25  0.000000e+00  \n",
       "26  0.000000e+00  \n",
       "27  0.000000e+00  \n",
       "28  0.000000e+00  \n",
       "29  8.947759e+09  "
      ]
     },
     "metadata": {},
     "output_type": "display_data"
    }
   ],
   "source": [
    "unrated_threshold = 0.015 * df_assets['Value'].sum()\n",
    "rated_threshold = 0.3 * df_assets['Value'].sum()\n",
    "\n",
    "def calculate_concentration(row):\n",
    "\n",
    "    concentration_value = 0\n",
    "\n",
    "    if row['Rating'] == 'NR':\n",
    "        excess = row['Value'] - unrated_threshold\n",
    "\n",
    "    else:\n",
    "        excess = row['Value'] - rated_threshold\n",
    "\n",
    "    if excess > 0:\n",
    "        concentration_value = excess*0.73\n",
    "\n",
    "    return concentration_value\n",
    "\n",
    "# Apply the function to each row (axis=1) to calculate the SCR\n",
    "df_assets['Concentration Value'] = df_assets.apply(calculate_concentration, axis=1)\n",
    "df_assets['CV**2'] = df_assets['Concentration Value']**2\n",
    "scr_concentratin = np.sqrt(df_assets['CV**2'].sum())\n",
    "\n",
    "print(scr_concentratin)\n",
    "display(df_assets)"
   ]
  },
  {
   "cell_type": "markdown",
   "metadata": {},
   "source": [
    "Counterparty type 1 (Reinsurers & Banks)"
   ]
  },
  {
   "cell_type": "code",
   "execution_count": null,
   "metadata": {},
   "outputs": [],
   "source": [
    "reinsurance_recoverables = \n",
    "cash_at_bank =\n",
    "rm_re = "
   ]
  },
  {
   "cell_type": "markdown",
   "metadata": {},
   "source": [
    "Counterparty type 2"
   ]
  },
  {
   "cell_type": "code",
   "execution_count": null,
   "metadata": {},
   "outputs": [],
   "source": []
  },
  {
   "cell_type": "markdown",
   "metadata": {},
   "source": [
    "Non-life Premium and Reserve"
   ]
  },
  {
   "cell_type": "code",
   "execution_count": null,
   "metadata": {},
   "outputs": [],
   "source": [
    "p_s = 11312  # forecasted earned premiums in the next year\n",
    "p_last = 10433  # premiums earned in the last year\n",
    "fp_existing =   # portion of premiums earnings for books that are beyond 12 months\n",
    "fp_future =   # premiums earning beyond 12m for BBNI policies\n",
    "v_prem = max(p_s, p_last) #+ fp_existing + fp_future\n",
    "v_res = \n",
    "nl_pr = 3 * 0.0778 * (v_prem + v_res)"
   ]
  },
  {
   "cell_type": "markdown",
   "metadata": {},
   "source": [
    "Construct Operational\n",
    "\n",
    "- **Inputs:**\n",
    "    - **Gross Earned Premium (current year & prior year):** Sourced from `PL`.\n",
    "    - **Gross Technical Provisions (non-life):** Sourced from `BS`.\n",
    "    - **The BSCR:** The diversified sum of the Market, Counterparty, and Underwriting risk modules, calculated in the preceding step of the model.\n",
    "    \n",
    "- Calculation:\n",
    "    1. **Calculate the Premium-Based Component (`Op_Prem`):** This step calculates a value based on the insurer's earned premiums and its recent growth.\n",
    "        - **Formula:** `Op_Prem = 3% × GEP_CY + Max[0, 0.3% × (GEP_CY - 1.2 × GEP_PY)]`.\n",
    "        - This means the model takes **3% of the gross earned premium from the last 12 months** and adds a small additional amount if premium volume has grown by more than 20% compared to the prior year, capturing the operational risk associated with rapid growth.\n",
    "        \n",
    "    2. **Calculate the Provisions-Based Component (`Op_Prov`):** This step calculates a value based on the size of the insurer's technical provisions.\n",
    "        - **Formula:** `Op_Prov = 3% × Max(0, TP_Non-Life)`.\n",
    "        - For a non-life insurer, this is **3% of the gross non-life technical provisions**.\n",
    "        \n",
    "    3. **Determine the Final SCR:** The model then combines these values with the BSCR.\n",
    "        - **Formula:** `SCR_Operational = Min(0.3 × BSCR, Max(Op_Prem, Op_Prov))`.\n",
    "        - The logic is to first take the **larger** of the premium-based and provisions-based components. This result is then compared to **30% of the BSCR**. The final Operational Risk SCR is the **smaller** of these two figures."
   ]
  },
  {
   "cell_type": "code",
   "execution_count": 34,
   "metadata": {},
   "outputs": [],
   "source": [
    "# op_risk = op_risk_calc.loc[op_risk_calc['OP risk calc'] == 'OP risk', 'Final - As at 30th June 2025'].item()\n",
    "\n",
    "# gep_cy = op_risk_calc.loc[op_risk_calc['OP risk calc'] == 'GEP - historic 1 to 12 months', 'Final - As at 30th June 2025'].item() # gross earned premium in the past 12 months\n",
    "# gep_py = op_risk_calc.loc[op_risk_calc['OP risk calc'] == 'GEP - historic 13 - 24 months', 'Final - As at 30th June 2025'].item() # gross earned premiums in the 12 months preceding the past 12 months\n",
    "# op_prem = 0.03 * gep_cy + max(0.03 * (gep_cy - 1.2 * gep_py), 0)\n",
    "\n",
    "# tp_non_life = op_risk_calc.loc[op_risk_calc['OP risk calc'] == 'Gross TPs', 'Final - As at 30th June 2025'].item() # technical provisions recorded in the non-life underwriting module\n",
    "# tp_life = 0 # technical provisions recorded in the life underwriting module\n",
    "# op_prov = 0.03 * max(0, tp_non_life) + 0.045 * max(0, tp_life)\n",
    "\n",
    "# calc_operational = min(0.3 * final_bscr, max(op_prem, op_prov))\n",
    "\n",
    "# if math.isclose(calc_operational, op_risk):\n",
    "#     print('Operational Risk Checks Out')\n",
    "# else:\n",
    "#     print('Operational Risk Does Not Check Out')"
   ]
  },
  {
   "cell_type": "markdown",
   "metadata": {},
   "source": [
    "Source `gep_cy`, `gep_py` and `tp_non_life` myself."
   ]
  },
  {
   "cell_type": "code",
   "execution_count": 35,
   "metadata": {},
   "outputs": [],
   "source": [
    "# mi_pl = clean_mi_pl_bs(file_path = 'documents\\\\Jun25 MICL MI Pack v3.1 Isi pack exc PC.xlsx', sheet_name='PL')\n"
   ]
  },
  {
   "cell_type": "markdown",
   "metadata": {},
   "source": [
    "Gross Written Premium 1 to 12 months"
   ]
  },
  {
   "cell_type": "code",
   "execution_count": 36,
   "metadata": {},
   "outputs": [],
   "source": [
    "# gross_written_premium = mi_pl.loc[mi_pl[('', 'Description')] == 'Gross written premium', ('YTD', 'Actual')]\n",
    "# gross_written_premium = gross_written_premium[:-1].item()\n",
    "# change_gross_provision_unearned_premiums = mi_pl.loc[mi_pl[('', 'Description')] == 'Change in the gross provision for unearned premiums', ('YTD', 'Actual')].item()\n",
    "# gross_earned_premium = gross_written_premium - change_gross_provision_unearned_premiums\n",
    "# print(gross_earned_premium)"
   ]
  },
  {
   "cell_type": "markdown",
   "metadata": {},
   "source": [
    "Gross Written Premium 13 to 24 months"
   ]
  },
  {
   "cell_type": "code",
   "execution_count": 37,
   "metadata": {},
   "outputs": [],
   "source": [
    "# gross_written_premium_past = mi_pl.loc[mi_pl[('', 'Description')] == 'Gross written premium', ('', 'Prior_Year')]\n",
    "# gross_written_premium_past = gross_written_premium_past[:-1].item()\n",
    "# change_gross_provision_unearned_premiums_past = mi_pl.loc[mi_pl[('', 'Description')] == 'Change in the gross provision for unearned premiums', ('', 'Prior_Year')].item()\n",
    "# gross_earned_premium_past = gross_written_premium_past - change_gross_provision_unearned_premiums_past\n",
    "# print(gross_earned_premium_past)"
   ]
  },
  {
   "cell_type": "markdown",
   "metadata": {},
   "source": [
    "Gross Technical Provisions"
   ]
  },
  {
   "cell_type": "code",
   "execution_count": 38,
   "metadata": {},
   "outputs": [],
   "source": [
    "# mi_bs = clean_mi_pl_bs(file_path = 'documents\\\\Jun25 MICL MI Pack v3.1 Isi pack exc PC.xlsx', sheet_name='BS')"
   ]
  },
  {
   "cell_type": "code",
   "execution_count": 39,
   "metadata": {},
   "outputs": [],
   "source": [
    "# provision_for_unearned_premiums = mi_bs.loc[mi_bs[('', 'Description')] == 'Provision for unearned premiums, gross amount', ('2025-06-01 00:00:00', 'Actual')].item()\n",
    "# claims_outstanding = mi_bs.loc[mi_bs[('', 'Description')] == 'Claims outstanding, gross amount', ('2025-06-01 00:00:00', 'Actual')].item()\n",
    "# ibnr = mi_bs.loc[mi_bs[('', 'Description')] == 'IBNR - Gross Amount', ('2025-06-01 00:00:00', 'Actual')].item()\n",
    "# gross_technical_provisions = provision_for_unearned_premiums + claims_outstanding + ibnr\n",
    "# print(gross_technical_provisions)"
   ]
  },
  {
   "cell_type": "markdown",
   "metadata": {},
   "source": [
    "Check to ensure calcualtion is correct"
   ]
  },
  {
   "cell_type": "code",
   "execution_count": 40,
   "metadata": {},
   "outputs": [],
   "source": [
    "def run_check(name: str, calculated_value: float, provided_value: float):\n",
    "    \"\"\"Compares a calculated value to a provided value and prints the result.\"\"\"\n",
    "    if provided_value is None:\n",
    "        print(f\"⚠️ {name}: Cannot check, provided value not found.\")\n",
    "        return\n",
    "\n",
    "    if math.isclose(calculated_value, provided_value):\n",
    "        print(f\"✅ {name}: Checks out.\")\n",
    "    else:\n",
    "        diff = abs(calculated_value - provided_value)\n",
    "        # Using an f-string to format the number with commas and 2 decimal places\n",
    "        print(f\"❌ {name}: Does NOT check out. Difference is {diff:,.2f}.\")"
   ]
  },
  {
   "cell_type": "markdown",
   "metadata": {},
   "source": [
    "Function SCR Module"
   ]
  },
  {
   "cell_type": "code",
   "execution_count": 41,
   "metadata": {},
   "outputs": [],
   "source": [
    "def scr_module(correlation_matrix, risk_type, labels):\n",
    "\n",
    "    value_column = 'Final - As at 30th June 2025'\n",
    "\n",
    "    data = scr_summary[\n",
    "        (scr_summary['SCR'] == risk_type) &\n",
    "        (scr_summary['Item'].isin(labels))\n",
    "    ].set_index('Item') # Set 'Item' as the index to allow ordering\n",
    "\n",
    "    # Reindex the data to match the labels order, ensuring the vector is correct; extract the column of values and convert it to a NumPy array.\n",
    "    vector = data.reindex(labels)[value_column].to_numpy()\n",
    "\n",
    "    # vector.T @ correlation_matrix: weigh each SCR value by its correlation to all other risks & dot product with vector\n",
    "    variance = vector.T @ correlation_matrix @ vector\n",
    "    calc_scr = np.sqrt(variance) # bring back to original currency unit\n",
    "\n",
    "    calc_diversification = calc_scr - sum(vector)\n",
    "\n",
    "    validation_items = ['Total', 'Diversification']\n",
    "\n",
    "    provided_values = scr_summary[\n",
    "        (scr_summary['SCR'] == risk_type) &\n",
    "        (scr_summary['Item'].isin(validation_items))\n",
    "    ].set_index('Item')[value_column] # Creates a Pandas Series indexed by 'Item'\n",
    "\n",
    "    scr_provided = provided_values.get('Total')\n",
    "    diversification_scr_provided = provided_values.get('Diversification')\n",
    "\n",
    "    print(f\"--- {risk_type} Risk Validation ---\")\n",
    "    run_check(name=f\"{risk_type} SCR\",\n",
    "            calculated_value=calc_scr,\n",
    "            provided_value=scr_provided)\n",
    "\n",
    "    run_check(name=\"Diversification Benefit\",\n",
    "            calculated_value=calc_diversification,\n",
    "            provided_value=diversification_scr_provided)\n",
    "\n",
    "    return calc_scr"
   ]
  },
  {
   "cell_type": "markdown",
   "metadata": {},
   "source": [
    "Call SCR function"
   ]
  },
  {
   "cell_type": "code",
   "execution_count": 42,
   "metadata": {},
   "outputs": [
    {
     "name": "stdout",
     "output_type": "stream",
     "text": [
      "--- Market Risk Validation ---\n",
      "✅ Market SCR: Checks out.\n",
      "✅ Diversification Benefit: Checks out.\n",
      "--- Counterparty Risk Validation ---\n",
      "✅ Counterparty SCR: Checks out.\n",
      "✅ Diversification Benefit: Checks out.\n",
      "--- Non-life Risk Validation ---\n",
      "✅ Non-life SCR: Checks out.\n",
      "✅ Diversification Benefit: Checks out.\n"
     ]
    }
   ],
   "source": [
    "A = 0.5\n",
    "# Source: COMMISSION DELEGATED REGULATION (EU) 2015/35 of 10 October 2014, Article 164, Page 105 of Journal of the European Union (L 12/1)\n",
    "market_scr = scr_module(\n",
    "    correlation_matrix = [\n",
    "    [1,    A,    A,    A,    0, 0.25],    # Interest rate\n",
    "    [A,    1, 0.75, 0.75,    0, 0.25],    # Equity\n",
    "    [A, 0.75,    1,  0.5,    0, 0.25],    # Property\n",
    "    [A, 0.75,  0.5,    1,    0, 0.25],    # Spread\n",
    "    [0,    0,    0,    0,    1,    0],     # Concentration\n",
    "    [0.25, 0.25, 0.25, 0.25, 0,    1]     # Currency\n",
    "], risk_type = 'Market', labels = ['Interest rate', 'Equity', 'Property', 'Spread', 'Concentration', 'Currency'])\n",
    "\n",
    "counterparty_scr = scr_module(\n",
    "    correlation_matrix = [\n",
    "    [1, 0.75],  # Type 1\n",
    "    [0.75, 1]  # Type 2\n",
    "], risk_type = 'Counterparty', labels = ['Type 1', 'Type 2'])\n",
    "\n",
    "nonlife_scr = scr_module(\n",
    "    correlation_matrix = [\n",
    "    [1.00, 0.25, 0.00],  # Premium/Reserve\n",
    "    [0.25, 1.00, 0.00],  # Catastrophe\n",
    "    [0.00, 0.00, 1.00]   # Lapse\n",
    "], risk_type = 'Non-life', labels = ['Premium  & reserve risk', 'Cat risk', 'Lapse risk'])"
   ]
  },
  {
   "cell_type": "markdown",
   "metadata": {},
   "source": [
    "BSCR"
   ]
  },
  {
   "cell_type": "code",
   "execution_count": 52,
   "metadata": {},
   "outputs": [
    {
     "name": "stdout",
     "output_type": "stream",
     "text": [
      "✅ BSCR: Checks out.\n",
      "✅ BSCR Diversification: Checks out.\n"
     ]
    }
   ],
   "source": [
    "labels = ['market_scr', 'counterparty_scr', 'nonlife_scr'] # set order for risks; the correlation matrix is built with this order in mind\n",
    "\n",
    "correlation_matrix_bscr = np.array([\n",
    "    [1.00, 0.25, 0.25],\n",
    "    [0.25, 1.00, 0.50],\n",
    "    [0.25, 0.50, 1.00]\n",
    "])\n",
    "\n",
    "scr_values = {\n",
    "    'market_scr': market_scr,\n",
    "    'counterparty_scr': counterparty_scr,\n",
    "    'nonlife_scr': nonlife_scr\n",
    "}\n",
    "\n",
    "bscr_vector = np.array([scr_values[label] for label in labels]) # build bscr_vector in order required to match correlation matrix\n",
    "\n",
    "# BSCR = SQRT(Σi,j Corr(i,j) * SCRi * SCRj) can be expressed in matrix notation as: BSCR = SQRT(bscr_vector^T * Correlation_Matrix * bscr_vector) where ^T denotes the transpose of the vector.\n",
    "variance = bscr_vector.T @ correlation_matrix_bscr @ bscr_vector\n",
    "calc_bscr = np.sqrt(variance) # brings back to original currency unit\n",
    "calc_diversification = calc_bscr - sum(bscr_vector)\n",
    "\n",
    "bscr_provided = scr_summary.loc[scr_summary['SCR'] == 'Basic SCR', 'Final - As at 30th June 2025'].item()\n",
    "diversification_provided = scr_summary.loc[scr_summary['SCR'] == 'Diversification', 'Final - As at 30th June 2025'].item()\n",
    "\n",
    "run_check(name = 'BSCR', calculated_value = calc_bscr, provided_value = bscr_provided)\n",
    "run_check(name = 'BSCR Diversification', calculated_value = calc_diversification, provided_value = diversification_provided)"
   ]
  }
 ],
 "metadata": {
  "kernelspec": {
   "display_name": "virtual_environment",
   "language": "python",
   "name": "python3"
  },
  "language_info": {
   "codemirror_mode": {
    "name": "ipython",
    "version": 3
   },
   "file_extension": ".py",
   "mimetype": "text/x-python",
   "name": "python",
   "nbconvert_exporter": "python",
   "pygments_lexer": "ipython3",
   "version": "3.11.5"
  }
 },
 "nbformat": 4,
 "nbformat_minor": 2
}
