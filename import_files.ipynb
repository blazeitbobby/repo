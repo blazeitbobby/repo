{
 "cells": [
  {
   "cell_type": "code",
   "execution_count": 2,
   "metadata": {},
   "outputs": [],
   "source": [
    "from clean import clean_mi_pl_bs, clean_mi_deferrals, clean_gross_tp_walk, clean_unearned_premium_unexpired_risk, clean_s2_summary_sheet"
   ]
  },
  {
   "cell_type": "code",
   "execution_count": null,
   "metadata": {},
   "outputs": [],
   "source": [
    "mi_pl = clean_mi_pl_bs(file_path = 'documents\\\\Jun25 MICL MI Pack v3.1 Isi pack exc PC.xlsx', sheet_name='PL')\n",
    "mi_bs = clean_mi_pl_bs(file_path = 'documents\\\\Jun25 MICL MI Pack v3.1 Isi pack exc PC.xlsx', sheet_name='BS')\n",
    "mi_deferrals = clean_mi_deferrals(file_path = 'documents\\\\Jun25 MICL MI Pack v3.1 Isi pack exc PC.xlsx', sheet_name = 'Deferrals')\n",
    "gross_tp_walk = clean_gross_tp_walk(file_path = 'documents\\\\2506 MICL_S2 Gross TP walk.xlsx', sheet_name = 'Sheet1')\n",
    "unearned_premium_unexpired_risk = clean_unearned_premium_unexpired_risk(file_path = 'documents\\\\2506 MICL_S2 Gross TP walk.xlsx', sheet_name = 'Sheet1')\n",
    "all_s2_tables = clean_s2_summary_sheet(file_path = 'documents\\\\2506 MICL_S2 Gross TP walk.xlsx', sheet_name='S2 Balance Sheet Summary')"
   ]
  },
  {
   "cell_type": "code",
   "execution_count": null,
   "metadata": {},
   "outputs": [],
   "source": [
    "print(\"\\n--- PL ---\")\n",
    "display(mi_pl.tail(10))\n",
    "\n",
    "print(\"\\n--- BS ---\")\n",
    "display(mi_bs.tail(10))\n",
    "\n",
    "print(\"\\n--- Deferrals ---\")\n",
    "display(mi_deferrals.head())\n",
    "\n",
    "print(\"\\n--- Gross TP Walk ---\")\n",
    "display(gross_tp_walk)\n",
    "\n",
    "print(\"\\n--- Unearned Premium & Unexpired Risk ---\")\n",
    "display(unearned_premium_unexpired_risk)\n",
    "\n",
    "for name, df in all_s2_tables.items():\n",
    "    print(f\"\\n--- {df.name} ---\")\n",
    "    display(df.head(25))"
   ]
  }
 ],
 "metadata": {
  "kernelspec": {
   "display_name": "virtual_environment",
   "language": "python",
   "name": "python3"
  },
  "language_info": {
   "codemirror_mode": {
    "name": "ipython",
    "version": 3
   },
   "file_extension": ".py",
   "mimetype": "text/x-python",
   "name": "python",
   "nbconvert_exporter": "python",
   "pygments_lexer": "ipython3",
   "version": "3.11.5"
  }
 },
 "nbformat": 4,
 "nbformat_minor": 2
}
